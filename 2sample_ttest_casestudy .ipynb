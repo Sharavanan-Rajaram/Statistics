{
 "cells": [
  {
   "cell_type": "code",
   "execution_count": 1,
   "metadata": {
    "colab": {},
    "colab_type": "code",
    "id": "BRhW47c6xHR0"
   },
   "outputs": [],
   "source": [
    "import numpy       as np\n",
    "import pandas      as pd\n",
    "import scipy.stats as stats\n",
    "from scipy.stats             import ttest_1samp,ttest_ind, wilcoxon\n",
    "from statsmodels.stats.power import ttest_power\n",
    "import matplotlib.pyplot     as     plt"
   ]
  },
  {
   "cell_type": "markdown",
   "metadata": {
    "colab_type": "text",
    "id": "rpOKoIt-xHR3"
   },
   "source": [
    "### You are given the daily sugar intake of 11 diabetic patients in the following Python code. \n",
    "\n",
    "**Is there any evidence to the claim that the average daily sugar intake of the diabetic patients is 7600 mg.** \n",
    "\n"
   ]
  },
  {
   "cell_type": "code",
   "execution_count": 2,
   "metadata": {
    "colab": {},
    "colab_type": "code",
    "id": "fXqipuhPxHR4"
   },
   "outputs": [],
   "source": [
    "# daily intake of Sugar in milligrams for 11 diabetic patients\n",
    "import numpy as np\n",
    "daily_intake = np.array([5560, 5770, 7640, 5180, 5690, 6435, 6803, 7689, 6876, 8213, 8765])"
   ]
  },
  {
   "cell_type": "code",
   "execution_count": 0,
   "metadata": {
    "colab": {},
    "colab_type": "code",
    "id": "ng4LB2so38ub"
   },
   "outputs": [],
   "source": [
    "Ho=7600\n",
    "Ha!=7600"
   ]
  },
  {
   "cell_type": "code",
   "execution_count": 3,
   "metadata": {
    "colab": {},
    "colab_type": "code",
    "id": "h-wCqZ31383t"
   },
   "outputs": [
    {
     "data": {
      "text/plain": [
       "(6783.727272727273, 1180.8815428237576)"
      ]
     },
     "execution_count": 3,
     "metadata": {},
     "output_type": "execute_result"
    }
   ],
   "source": [
    "np.mean(daily_intake),np.std(daily_intake,ddof=1)"
   ]
  },
  {
   "cell_type": "code",
   "execution_count": 4,
   "metadata": {
    "colab": {},
    "colab_type": "code",
    "id": "S2Qxg7m138kO"
   },
   "outputs": [
    {
     "data": {
      "text/plain": [
       "Ttest_1sampResult(statistic=-2.2925841964555027, pvalue=0.04481624562570511)"
      ]
     },
     "execution_count": 4,
     "metadata": {},
     "output_type": "execute_result"
    }
   ],
   "source": [
    "ttest_1samp(daily_intake,7600)\n"
   ]
  },
  {
   "cell_type": "code",
   "execution_count": 0,
   "metadata": {
    "colab": {},
    "colab_type": "code",
    "id": "YjYL_Siq4FWR"
   },
   "outputs": [],
   "source": [
    "P-val <0.05, we reject Ho (mu =7600), which implies, there is no evidence for the claim"
   ]
  },
  {
   "cell_type": "markdown",
   "metadata": {
    "colab_type": "text",
    "id": "182whitMxHSF"
   },
   "source": [
    "### Data was collected on the weights of women and men enrolled in a weight reduction program. At  𝛼 = 0.05, test whether the average weights of these two samples are different.\n",
    "Compare the following two unrelated samples. "
   ]
  },
  {
   "cell_type": "code",
   "execution_count": 4,
   "metadata": {
    "colab": {},
    "colab_type": "code",
    "id": "LAkBViewxHSF"
   },
   "outputs": [],
   "source": [
    "Weight_Female       =  [ 53.8, 54.4, 51.2, 52.5, 61.0, 50.6, 51.6, 70.0]\n",
    "Weight_Male         =  [ 72.5, 80.3, 71.3, 67.7, 66.2, 73.4, 61.3, 76.8]"
   ]
  },
  {
   "cell_type": "code",
   "execution_count": 5,
   "metadata": {
    "colab": {},
    "colab_type": "code",
    "id": "NpOVhCQbxHSH"
   },
   "outputs": [],
   "source": [
    "from    scipy.stats import  ttest_ind, ttest_rel, ttest_1samp\n",
    "import  scipy.stats             as      stats  \n",
    "from    statsmodels.stats.power import  ttest_power\n",
    "import  matplotlib.pyplot       as      plt"
   ]
  },
  {
   "cell_type": "raw",
   "metadata": {
    "colab": {},
    "colab_type": "code",
    "id": "RrNv313_4KQR"
   },
   "source": [
    "We can infer from the question that they both are independent."
   ]
  },
  {
   "cell_type": "code",
   "execution_count": null,
   "metadata": {},
   "outputs": [],
   "source": [
    "Ha=> average weights of Male != average weight of Female\n",
    "Ho=> average weights of Male == average weight of Female"
   ]
  },
  {
   "cell_type": "code",
   "execution_count": 13,
   "metadata": {
    "colab": {},
    "colab_type": "code",
    "id": "OICVwpMS4KUW"
   },
   "outputs": [
    {
     "data": {
      "text/plain": [
       "Ttest_indResult(statistic=4.886344172533444, pvalue=0.00024034957515992796)"
      ]
     },
     "execution_count": 13,
     "metadata": {},
     "output_type": "execute_result"
    }
   ],
   "source": [
    "ttest_ind(Weight_Male,Weight_Female)"
   ]
  },
  {
   "cell_type": "code",
   "execution_count": 0,
   "metadata": {
    "colab": {},
    "colab_type": "code",
    "id": "bUMtbPWC4Y2K"
   },
   "outputs": [],
   "source": [
    "pvalue=0.00024034957515992796\n",
    "The pvalue <0.05 which means we can reject the Null hypothesis.\n",
    "Conclusion : Average weights of these two samples are different."
   ]
  },
  {
   "cell_type": "code",
   "execution_count": 7,
   "metadata": {},
   "outputs": [
    {
     "data": {
      "text/plain": [
       "(55.637499999999996, 71.1875)"
      ]
     },
     "execution_count": 7,
     "metadata": {},
     "output_type": "execute_result"
    }
   ],
   "source": [
    "# Not needed for the question\n",
    "np.mean(Weight_Female),np.mean(Weight_Male)"
   ]
  },
  {
   "cell_type": "code",
   "execution_count": 12,
   "metadata": {},
   "outputs": [
    {
     "data": {
      "text/plain": [
       "4.886344172533443"
      ]
     },
     "execution_count": 12,
     "metadata": {},
     "output_type": "execute_result"
    }
   ],
   "source": [
    "#Manual verification - values are same \n",
    "x1_bar=np.mean(Weight_Male)\n",
    "s1=np.std(Weight_Male,ddof=1)\n",
    "n1=len(Weight_Male)\n",
    "\n",
    "x2_bar=np.mean(Weight_Female)\n",
    "s2=np.std(Weight_Female,ddof=1)\n",
    "n2=len(Weight_Female)\n",
    "\n",
    "tstat=(x1_bar-x2_bar)/np.sqrt((s1**2/n1)+(s2**2/n2))\n",
    "tstat"
   ]
  },
  {
   "cell_type": "markdown",
   "metadata": {
    "colab_type": "text",
    "id": "mDI6UConxHSO"
   },
   "source": [
    "**Here weight of 25 people were recorded before they had a new therapy and then again 6 months later. \n",
    "Check if new therapy leads to a change in weight.**"
   ]
  },
  {
   "cell_type": "code",
   "execution_count": 10,
   "metadata": {
    "colab": {},
    "colab_type": "code",
    "id": "sITE_teAxHSP"
   },
   "outputs": [],
   "source": [
    "wt_before = [76, 76, 72, 73, 64, 63, 75, 75, 71, 76, 71, 76, 78, 73, 76, 70, 71, 82, 84, 68, 70, 68, 66, 67, 74]\n",
    "wt_after  = [63, 72, 67, 69, 58, 59, 70, 71, 70, 71, 68, 71, 72, 69, 72, 67, 67, 78, 79, 62, 67, 63, 61, 63, 69]"
   ]
  },
  {
   "cell_type": "markdown",
   "metadata": {
    "colab_type": "text",
    "id": "xSfzCRu6xHSR"
   },
   "source": [
    "**At 5% level of significance, is there any evidence that the new therapy has any effect on the weight of the participants?**"
   ]
  },
  {
   "cell_type": "raw",
   "metadata": {
    "colab": {},
    "colab_type": "code",
    "id": "bKHemh7x4Ph3"
   },
   "source": [
    "Ha: Change in weight i.e. Effect is asked wt_before != wt_after\n",
    "Ho: No Effect wt_before == wt_after"
   ]
  },
  {
   "cell_type": "code",
   "execution_count": 11,
   "metadata": {
    "colab": {},
    "colab_type": "code",
    "id": "vRz9VrqA4iQM"
   },
   "outputs": [
    {
     "data": {
      "text/plain": [
       "Ttest_relResult(statistic=11.381954836452902, pvalue=3.704651177780503e-11)"
      ]
     },
     "execution_count": 11,
     "metadata": {},
     "output_type": "execute_result"
    }
   ],
   "source": [
    "ttest_rel(wt_before,wt_after)"
   ]
  },
  {
   "cell_type": "code",
   "execution_count": 0,
   "metadata": {
    "colab": {},
    "colab_type": "code",
    "id": "7jAgi9pk4Wam"
   },
   "outputs": [],
   "source": [
    "pvalue<0.05 so we reject the Ho.\n",
    "\n",
    "Conclusion: There is a change in the weights after joining the therapy"
   ]
  },
  {
   "cell_type": "markdown",
   "metadata": {
    "colab_type": "text",
    "id": "WmBi4MI7xHSV"
   },
   "source": [
    "We collect the sample data, calculate the test statistic. \n",
    "In our example, \n",
    "* $\\overline{X}$ = 3.001\n",
    "* $\\mu$   = 2.89\n",
    "* $\\sigma$ = 11\n",
    "* n       = 100\n",
    "* $Z_{STAT} = \\frac{\\overline{X} - \\mu} {\\frac{\\sigma}{\\sqrt{n}}}$ "
   ]
  },
  {
   "cell_type": "code",
   "execution_count": 16,
   "metadata": {
    "colab": {},
    "colab_type": "code",
    "id": "xjZe6NmW4SN6"
   },
   "outputs": [],
   "source": [
    "xbar=3.001\n",
    "mu=2.89\n",
    "sigma=11\n",
    "n=100"
   ]
  },
  {
   "cell_type": "code",
   "execution_count": 17,
   "metadata": {
    "colab": {},
    "colab_type": "code",
    "id": "rAZtTFKU4TWc"
   },
   "outputs": [
    {
     "data": {
      "text/plain": [
       "0.10090909090909068"
      ]
     },
     "execution_count": 17,
     "metadata": {},
     "output_type": "execute_result"
    }
   ],
   "source": [
    "zstat=(xbar-mu)/(sigma/np.sqrt(n))\n",
    "zstat"
   ]
  }
 ],
 "metadata": {
  "colab": {
   "name": "Inclass_LabExercise_Day02New.ipynb",
   "provenance": []
  },
  "kernelspec": {
   "display_name": "Python 3",
   "language": "python",
   "name": "python3"
  },
  "language_info": {
   "codemirror_mode": {
    "name": "ipython",
    "version": 3
   },
   "file_extension": ".py",
   "mimetype": "text/x-python",
   "name": "python",
   "nbconvert_exporter": "python",
   "pygments_lexer": "ipython3",
   "version": "3.7.6"
  }
 },
 "nbformat": 4,
 "nbformat_minor": 1
}
