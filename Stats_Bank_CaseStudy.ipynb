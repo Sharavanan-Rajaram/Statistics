{
 "cells": [
  {
   "cell_type": "code",
   "execution_count": 1,
   "metadata": {},
   "outputs": [],
   "source": [
    "import numpy as np\n",
    "import pandas as pd\n",
    "import seaborn as sns\n",
    "import matplotlib.pyplot as plt\n",
    "import scipy.stats as stats\n",
    "from scipy.stats import skew\n",
    "from scipy.stats import shapiro,wilcoxon,ttest_1samp,ttest_ind,ttest_rel,skew\n",
    "from statsmodels.stats.proportion import proportions_ztest\n",
    "from scipy.stats import chi2_contingency,chisquare"
   ]
  },
  {
   "cell_type": "markdown",
   "metadata": {},
   "source": [
    "# Case Study - covering all Stats"
   ]
  },
  {
   "cell_type": "code",
   "execution_count": 3,
   "metadata": {},
   "outputs": [
    {
     "data": {
      "text/html": [
       "<div>\n",
       "<style scoped>\n",
       "    .dataframe tbody tr th:only-of-type {\n",
       "        vertical-align: middle;\n",
       "    }\n",
       "\n",
       "    .dataframe tbody tr th {\n",
       "        vertical-align: top;\n",
       "    }\n",
       "\n",
       "    .dataframe thead th {\n",
       "        text-align: right;\n",
       "    }\n",
       "</style>\n",
       "<table border=\"1\" class=\"dataframe\">\n",
       "  <thead>\n",
       "    <tr style=\"text-align: right;\">\n",
       "      <th></th>\n",
       "      <th>User I.D</th>\n",
       "      <th>Age</th>\n",
       "      <th>Income</th>\n",
       "      <th>Income2</th>\n",
       "      <th>Deposit</th>\n",
       "      <th>Deposit2</th>\n",
       "      <th>Customer_type</th>\n",
       "      <th>Deposit_Scheme</th>\n",
       "    </tr>\n",
       "  </thead>\n",
       "  <tbody>\n",
       "    <tr>\n",
       "      <th>0</th>\n",
       "      <td>ACX570081</td>\n",
       "      <td>26</td>\n",
       "      <td>32900</td>\n",
       "      <td>20230</td>\n",
       "      <td>14805.0</td>\n",
       "      <td>11935.7</td>\n",
       "      <td>Irregular</td>\n",
       "      <td>Hal-Yearly</td>\n",
       "    </tr>\n",
       "    <tr>\n",
       "      <th>1</th>\n",
       "      <td>ACX570082</td>\n",
       "      <td>43</td>\n",
       "      <td>37390</td>\n",
       "      <td>21410</td>\n",
       "      <td>19442.8</td>\n",
       "      <td>10276.8</td>\n",
       "      <td>Regular</td>\n",
       "      <td>Quaterly</td>\n",
       "    </tr>\n",
       "    <tr>\n",
       "      <th>2</th>\n",
       "      <td>ACX570083</td>\n",
       "      <td>35</td>\n",
       "      <td>11300</td>\n",
       "      <td>22290</td>\n",
       "      <td>5989.0</td>\n",
       "      <td>9361.8</td>\n",
       "      <td>Irregular</td>\n",
       "      <td>Monthly</td>\n",
       "    </tr>\n",
       "    <tr>\n",
       "      <th>3</th>\n",
       "      <td>ACX570084</td>\n",
       "      <td>27</td>\n",
       "      <td>41680</td>\n",
       "      <td>26970</td>\n",
       "      <td>19589.6</td>\n",
       "      <td>15912.3</td>\n",
       "      <td>Irregular</td>\n",
       "      <td>Quaterly</td>\n",
       "    </tr>\n",
       "    <tr>\n",
       "      <th>4</th>\n",
       "      <td>ACX570085</td>\n",
       "      <td>42</td>\n",
       "      <td>27170</td>\n",
       "      <td>27220</td>\n",
       "      <td>14943.5</td>\n",
       "      <td>11160.2</td>\n",
       "      <td>Regular</td>\n",
       "      <td>Quaterly</td>\n",
       "    </tr>\n",
       "    <tr>\n",
       "      <th>...</th>\n",
       "      <td>...</td>\n",
       "      <td>...</td>\n",
       "      <td>...</td>\n",
       "      <td>...</td>\n",
       "      <td>...</td>\n",
       "      <td>...</td>\n",
       "      <td>...</td>\n",
       "      <td>...</td>\n",
       "    </tr>\n",
       "    <tr>\n",
       "      <th>259</th>\n",
       "      <td>ACX570326</td>\n",
       "      <td>28</td>\n",
       "      <td>35350</td>\n",
       "      <td>22240</td>\n",
       "      <td>15907.5</td>\n",
       "      <td>9785.6</td>\n",
       "      <td>Irregular</td>\n",
       "      <td>Yearly</td>\n",
       "    </tr>\n",
       "    <tr>\n",
       "      <th>260</th>\n",
       "      <td>ACX570327</td>\n",
       "      <td>36</td>\n",
       "      <td>21500</td>\n",
       "      <td>34410</td>\n",
       "      <td>10535.0</td>\n",
       "      <td>17893.2</td>\n",
       "      <td>Regular</td>\n",
       "      <td>Quaterly</td>\n",
       "    </tr>\n",
       "    <tr>\n",
       "      <th>261</th>\n",
       "      <td>ACX570328</td>\n",
       "      <td>25</td>\n",
       "      <td>27840</td>\n",
       "      <td>24250</td>\n",
       "      <td>16425.6</td>\n",
       "      <td>10427.5</td>\n",
       "      <td>Irregular</td>\n",
       "      <td>Quaterly</td>\n",
       "    </tr>\n",
       "    <tr>\n",
       "      <th>262</th>\n",
       "      <td>ACX570329</td>\n",
       "      <td>36</td>\n",
       "      <td>38530</td>\n",
       "      <td>26800</td>\n",
       "      <td>18494.4</td>\n",
       "      <td>11256.0</td>\n",
       "      <td>Regular</td>\n",
       "      <td>Quaterly</td>\n",
       "    </tr>\n",
       "    <tr>\n",
       "      <th>263</th>\n",
       "      <td>ACX570330</td>\n",
       "      <td>49</td>\n",
       "      <td>36170</td>\n",
       "      <td>26010</td>\n",
       "      <td>20616.9</td>\n",
       "      <td>15866.1</td>\n",
       "      <td>Regular</td>\n",
       "      <td>Monthly</td>\n",
       "    </tr>\n",
       "  </tbody>\n",
       "</table>\n",
       "<p>264 rows × 8 columns</p>\n",
       "</div>"
      ],
      "text/plain": [
       "      User I.D  Age  Income  Income2  Deposit  Deposit2 Customer_type  \\\n",
       "0    ACX570081   26   32900    20230  14805.0   11935.7     Irregular   \n",
       "1    ACX570082   43   37390    21410  19442.8   10276.8       Regular   \n",
       "2    ACX570083   35   11300    22290   5989.0    9361.8     Irregular   \n",
       "3    ACX570084   27   41680    26970  19589.6   15912.3     Irregular   \n",
       "4    ACX570085   42   27170    27220  14943.5   11160.2       Regular   \n",
       "..         ...  ...     ...      ...      ...       ...           ...   \n",
       "259  ACX570326   28   35350    22240  15907.5    9785.6     Irregular   \n",
       "260  ACX570327   36   21500    34410  10535.0   17893.2       Regular   \n",
       "261  ACX570328   25   27840    24250  16425.6   10427.5     Irregular   \n",
       "262  ACX570329   36   38530    26800  18494.4   11256.0       Regular   \n",
       "263  ACX570330   49   36170    26010  20616.9   15866.1       Regular   \n",
       "\n",
       "    Deposit_Scheme  \n",
       "0       Hal-Yearly  \n",
       "1         Quaterly  \n",
       "2          Monthly  \n",
       "3         Quaterly  \n",
       "4         Quaterly  \n",
       "..             ...  \n",
       "259         Yearly  \n",
       "260       Quaterly  \n",
       "261       Quaterly  \n",
       "262       Quaterly  \n",
       "263        Monthly  \n",
       "\n",
       "[264 rows x 8 columns]"
      ]
     },
     "execution_count": 3,
     "metadata": {},
     "output_type": "execute_result"
    }
   ],
   "source": [
    "df=pd.read_csv('Bank-1.csv')\n",
    "df"
   ]
  },
  {
   "cell_type": "code",
   "execution_count": 4,
   "metadata": {},
   "outputs": [
    {
     "data": {
      "text/html": [
       "<div>\n",
       "<style scoped>\n",
       "    .dataframe tbody tr th:only-of-type {\n",
       "        vertical-align: middle;\n",
       "    }\n",
       "\n",
       "    .dataframe tbody tr th {\n",
       "        vertical-align: top;\n",
       "    }\n",
       "\n",
       "    .dataframe thead th {\n",
       "        text-align: right;\n",
       "    }\n",
       "</style>\n",
       "<table border=\"1\" class=\"dataframe\">\n",
       "  <thead>\n",
       "    <tr style=\"text-align: right;\">\n",
       "      <th></th>\n",
       "      <th>Age</th>\n",
       "      <th>Income</th>\n",
       "      <th>Income2</th>\n",
       "      <th>Deposit</th>\n",
       "      <th>Deposit2</th>\n",
       "    </tr>\n",
       "  </thead>\n",
       "  <tbody>\n",
       "    <tr>\n",
       "      <th>count</th>\n",
       "      <td>264.000000</td>\n",
       "      <td>264.000000</td>\n",
       "      <td>264.000000</td>\n",
       "      <td>264.000000</td>\n",
       "      <td>264.000000</td>\n",
       "    </tr>\n",
       "    <tr>\n",
       "      <th>mean</th>\n",
       "      <td>35.143939</td>\n",
       "      <td>30104.583333</td>\n",
       "      <td>25014.545455</td>\n",
       "      <td>15601.345076</td>\n",
       "      <td>12915.172348</td>\n",
       "    </tr>\n",
       "    <tr>\n",
       "      <th>std</th>\n",
       "      <td>6.045622</td>\n",
       "      <td>9383.489941</td>\n",
       "      <td>5079.402956</td>\n",
       "      <td>5184.112352</td>\n",
       "      <td>3038.508903</td>\n",
       "    </tr>\n",
       "    <tr>\n",
       "      <th>min</th>\n",
       "      <td>16.000000</td>\n",
       "      <td>5110.000000</td>\n",
       "      <td>11200.000000</td>\n",
       "      <td>2606.100000</td>\n",
       "      <td>5104.000000</td>\n",
       "    </tr>\n",
       "    <tr>\n",
       "      <th>25%</th>\n",
       "      <td>31.000000</td>\n",
       "      <td>24207.500000</td>\n",
       "      <td>21797.500000</td>\n",
       "      <td>11934.975000</td>\n",
       "      <td>10554.575000</td>\n",
       "    </tr>\n",
       "    <tr>\n",
       "      <th>50%</th>\n",
       "      <td>35.000000</td>\n",
       "      <td>30360.000000</td>\n",
       "      <td>25160.000000</td>\n",
       "      <td>15561.100000</td>\n",
       "      <td>12881.200000</td>\n",
       "    </tr>\n",
       "    <tr>\n",
       "      <th>75%</th>\n",
       "      <td>39.000000</td>\n",
       "      <td>36132.500000</td>\n",
       "      <td>28532.500000</td>\n",
       "      <td>19049.375000</td>\n",
       "      <td>15140.825000</td>\n",
       "    </tr>\n",
       "    <tr>\n",
       "      <th>max</th>\n",
       "      <td>49.000000</td>\n",
       "      <td>57000.000000</td>\n",
       "      <td>38300.000000</td>\n",
       "      <td>31920.000000</td>\n",
       "      <td>21065.000000</td>\n",
       "    </tr>\n",
       "  </tbody>\n",
       "</table>\n",
       "</div>"
      ],
      "text/plain": [
       "              Age        Income       Income2       Deposit      Deposit2\n",
       "count  264.000000    264.000000    264.000000    264.000000    264.000000\n",
       "mean    35.143939  30104.583333  25014.545455  15601.345076  12915.172348\n",
       "std      6.045622   9383.489941   5079.402956   5184.112352   3038.508903\n",
       "min     16.000000   5110.000000  11200.000000   2606.100000   5104.000000\n",
       "25%     31.000000  24207.500000  21797.500000  11934.975000  10554.575000\n",
       "50%     35.000000  30360.000000  25160.000000  15561.100000  12881.200000\n",
       "75%     39.000000  36132.500000  28532.500000  19049.375000  15140.825000\n",
       "max     49.000000  57000.000000  38300.000000  31920.000000  21065.000000"
      ]
     },
     "execution_count": 4,
     "metadata": {},
     "output_type": "execute_result"
    }
   ],
   "source": [
    "df.describe()"
   ]
  },
  {
   "cell_type": "code",
   "execution_count": 6,
   "metadata": {},
   "outputs": [
    {
     "name": "stdout",
     "output_type": "stream",
     "text": [
      "<class 'pandas.core.frame.DataFrame'>\n",
      "RangeIndex: 264 entries, 0 to 263\n",
      "Data columns (total 8 columns):\n",
      " #   Column          Non-Null Count  Dtype  \n",
      "---  ------          --------------  -----  \n",
      " 0   User I.D        264 non-null    object \n",
      " 1   Age             264 non-null    int64  \n",
      " 2   Income          264 non-null    int64  \n",
      " 3   Income2         264 non-null    int64  \n",
      " 4   Deposit         264 non-null    float64\n",
      " 5   Deposit2        264 non-null    float64\n",
      " 6   Customer_type   264 non-null    object \n",
      " 7   Deposit_Scheme  264 non-null    object \n",
      "dtypes: float64(2), int64(3), object(3)\n",
      "memory usage: 16.6+ KB\n"
     ]
    }
   ],
   "source": [
    "df.info()"
   ]
  },
  {
   "cell_type": "code",
   "execution_count": 7,
   "metadata": {},
   "outputs": [
    {
     "data": {
      "text/plain": [
       "(264, 8)"
      ]
     },
     "execution_count": 7,
     "metadata": {},
     "output_type": "execute_result"
    }
   ],
   "source": [
    "df.shape"
   ]
  },
  {
   "cell_type": "markdown",
   "metadata": {},
   "source": [
    "Q1: In the manager’s report, it is mentioned that the average Age of the Customers is 35.\n",
    "\n",
    "This is 1-sample mean test"
   ]
  },
  {
   "cell_type": "code",
   "execution_count": 8,
   "metadata": {},
   "outputs": [],
   "source": [
    "from scipy.stats import shapiro"
   ]
  },
  {
   "cell_type": "code",
   "execution_count": 9,
   "metadata": {},
   "outputs": [
    {
     "data": {
      "text/plain": [
       "0      26\n",
       "1      43\n",
       "2      35\n",
       "3      27\n",
       "4      42\n",
       "       ..\n",
       "259    28\n",
       "260    36\n",
       "261    25\n",
       "262    36\n",
       "263    49\n",
       "Name: Age, Length: 264, dtype: int64"
      ]
     },
     "execution_count": 9,
     "metadata": {},
     "output_type": "execute_result"
    }
   ],
   "source": [
    "df['Age']"
   ]
  },
  {
   "cell_type": "code",
   "execution_count": 11,
   "metadata": {},
   "outputs": [
    {
     "name": "stdout",
     "output_type": "stream",
     "text": [
      "Statistics=0.993, p=0.220\n",
      "Sample is from Normal Population (fail to reject H0)\n"
     ]
    }
   ],
   "source": [
    "# normality test\n",
    "stat, p = shapiro(df['Age'])\n",
    "print('Statistics=%.3f, p=%.3f' % (stat, p))\n",
    "# interpret\n",
    "alpha = 0.05\n",
    "if p > alpha:\n",
    "    print('Sample is from Normal Population (fail to reject H0)')\n",
    "else:\n",
    "    print('Samples is not from Normal Population (reject H0)')\n",
    "\n",
    "#Sample follows normal distribution"
   ]
  },
  {
   "cell_type": "code",
   "execution_count": 12,
   "metadata": {},
   "outputs": [
    {
     "data": {
      "text/plain": [
       "Ttest_1sampResult(statistic=0.38684825882837526, pvalue=0.6991813724146171)"
      ]
     },
     "execution_count": 12,
     "metadata": {},
     "output_type": "execute_result"
    }
   ],
   "source": [
    "ttest_1samp(df['Age'],35)"
   ]
  },
  {
   "cell_type": "code",
   "execution_count": null,
   "metadata": {},
   "outputs": [],
   "source": [
    "pvalue=0.6991813724146171 >0.05 , so Null hypothesis holds good.\n",
    "\n",
    "#So Sample represent the Mean Age. Manager expectations macthes. So Sample also represents the Population"
   ]
  },
  {
   "cell_type": "raw",
   "metadata": {},
   "source": [
    "Q2. Before Corona the mean Income of the customers was 40000.\n",
    "\n",
    "#Take first Income column"
   ]
  },
  {
   "cell_type": "code",
   "execution_count": 13,
   "metadata": {},
   "outputs": [
    {
     "data": {
      "text/html": [
       "<div>\n",
       "<style scoped>\n",
       "    .dataframe tbody tr th:only-of-type {\n",
       "        vertical-align: middle;\n",
       "    }\n",
       "\n",
       "    .dataframe tbody tr th {\n",
       "        vertical-align: top;\n",
       "    }\n",
       "\n",
       "    .dataframe thead th {\n",
       "        text-align: right;\n",
       "    }\n",
       "</style>\n",
       "<table border=\"1\" class=\"dataframe\">\n",
       "  <thead>\n",
       "    <tr style=\"text-align: right;\">\n",
       "      <th></th>\n",
       "      <th>User I.D</th>\n",
       "      <th>Age</th>\n",
       "      <th>Income</th>\n",
       "      <th>Income2</th>\n",
       "      <th>Deposit</th>\n",
       "      <th>Deposit2</th>\n",
       "      <th>Customer_type</th>\n",
       "      <th>Deposit_Scheme</th>\n",
       "    </tr>\n",
       "  </thead>\n",
       "  <tbody>\n",
       "    <tr>\n",
       "      <th>0</th>\n",
       "      <td>ACX570081</td>\n",
       "      <td>26</td>\n",
       "      <td>32900</td>\n",
       "      <td>20230</td>\n",
       "      <td>14805.0</td>\n",
       "      <td>11935.7</td>\n",
       "      <td>Irregular</td>\n",
       "      <td>Hal-Yearly</td>\n",
       "    </tr>\n",
       "    <tr>\n",
       "      <th>1</th>\n",
       "      <td>ACX570082</td>\n",
       "      <td>43</td>\n",
       "      <td>37390</td>\n",
       "      <td>21410</td>\n",
       "      <td>19442.8</td>\n",
       "      <td>10276.8</td>\n",
       "      <td>Regular</td>\n",
       "      <td>Quaterly</td>\n",
       "    </tr>\n",
       "    <tr>\n",
       "      <th>2</th>\n",
       "      <td>ACX570083</td>\n",
       "      <td>35</td>\n",
       "      <td>11300</td>\n",
       "      <td>22290</td>\n",
       "      <td>5989.0</td>\n",
       "      <td>9361.8</td>\n",
       "      <td>Irregular</td>\n",
       "      <td>Monthly</td>\n",
       "    </tr>\n",
       "    <tr>\n",
       "      <th>3</th>\n",
       "      <td>ACX570084</td>\n",
       "      <td>27</td>\n",
       "      <td>41680</td>\n",
       "      <td>26970</td>\n",
       "      <td>19589.6</td>\n",
       "      <td>15912.3</td>\n",
       "      <td>Irregular</td>\n",
       "      <td>Quaterly</td>\n",
       "    </tr>\n",
       "    <tr>\n",
       "      <th>4</th>\n",
       "      <td>ACX570085</td>\n",
       "      <td>42</td>\n",
       "      <td>27170</td>\n",
       "      <td>27220</td>\n",
       "      <td>14943.5</td>\n",
       "      <td>11160.2</td>\n",
       "      <td>Regular</td>\n",
       "      <td>Quaterly</td>\n",
       "    </tr>\n",
       "    <tr>\n",
       "      <th>...</th>\n",
       "      <td>...</td>\n",
       "      <td>...</td>\n",
       "      <td>...</td>\n",
       "      <td>...</td>\n",
       "      <td>...</td>\n",
       "      <td>...</td>\n",
       "      <td>...</td>\n",
       "      <td>...</td>\n",
       "    </tr>\n",
       "    <tr>\n",
       "      <th>259</th>\n",
       "      <td>ACX570326</td>\n",
       "      <td>28</td>\n",
       "      <td>35350</td>\n",
       "      <td>22240</td>\n",
       "      <td>15907.5</td>\n",
       "      <td>9785.6</td>\n",
       "      <td>Irregular</td>\n",
       "      <td>Yearly</td>\n",
       "    </tr>\n",
       "    <tr>\n",
       "      <th>260</th>\n",
       "      <td>ACX570327</td>\n",
       "      <td>36</td>\n",
       "      <td>21500</td>\n",
       "      <td>34410</td>\n",
       "      <td>10535.0</td>\n",
       "      <td>17893.2</td>\n",
       "      <td>Regular</td>\n",
       "      <td>Quaterly</td>\n",
       "    </tr>\n",
       "    <tr>\n",
       "      <th>261</th>\n",
       "      <td>ACX570328</td>\n",
       "      <td>25</td>\n",
       "      <td>27840</td>\n",
       "      <td>24250</td>\n",
       "      <td>16425.6</td>\n",
       "      <td>10427.5</td>\n",
       "      <td>Irregular</td>\n",
       "      <td>Quaterly</td>\n",
       "    </tr>\n",
       "    <tr>\n",
       "      <th>262</th>\n",
       "      <td>ACX570329</td>\n",
       "      <td>36</td>\n",
       "      <td>38530</td>\n",
       "      <td>26800</td>\n",
       "      <td>18494.4</td>\n",
       "      <td>11256.0</td>\n",
       "      <td>Regular</td>\n",
       "      <td>Quaterly</td>\n",
       "    </tr>\n",
       "    <tr>\n",
       "      <th>263</th>\n",
       "      <td>ACX570330</td>\n",
       "      <td>49</td>\n",
       "      <td>36170</td>\n",
       "      <td>26010</td>\n",
       "      <td>20616.9</td>\n",
       "      <td>15866.1</td>\n",
       "      <td>Regular</td>\n",
       "      <td>Monthly</td>\n",
       "    </tr>\n",
       "  </tbody>\n",
       "</table>\n",
       "<p>264 rows × 8 columns</p>\n",
       "</div>"
      ],
      "text/plain": [
       "      User I.D  Age  Income  Income2  Deposit  Deposit2 Customer_type  \\\n",
       "0    ACX570081   26   32900    20230  14805.0   11935.7     Irregular   \n",
       "1    ACX570082   43   37390    21410  19442.8   10276.8       Regular   \n",
       "2    ACX570083   35   11300    22290   5989.0    9361.8     Irregular   \n",
       "3    ACX570084   27   41680    26970  19589.6   15912.3     Irregular   \n",
       "4    ACX570085   42   27170    27220  14943.5   11160.2       Regular   \n",
       "..         ...  ...     ...      ...      ...       ...           ...   \n",
       "259  ACX570326   28   35350    22240  15907.5    9785.6     Irregular   \n",
       "260  ACX570327   36   21500    34410  10535.0   17893.2       Regular   \n",
       "261  ACX570328   25   27840    24250  16425.6   10427.5     Irregular   \n",
       "262  ACX570329   36   38530    26800  18494.4   11256.0       Regular   \n",
       "263  ACX570330   49   36170    26010  20616.9   15866.1       Regular   \n",
       "\n",
       "    Deposit_Scheme  \n",
       "0       Hal-Yearly  \n",
       "1         Quaterly  \n",
       "2          Monthly  \n",
       "3         Quaterly  \n",
       "4         Quaterly  \n",
       "..             ...  \n",
       "259         Yearly  \n",
       "260       Quaterly  \n",
       "261       Quaterly  \n",
       "262       Quaterly  \n",
       "263        Monthly  \n",
       "\n",
       "[264 rows x 8 columns]"
      ]
     },
     "execution_count": 13,
     "metadata": {},
     "output_type": "execute_result"
    }
   ],
   "source": [
    "df"
   ]
  },
  {
   "cell_type": "code",
   "execution_count": 14,
   "metadata": {},
   "outputs": [
    {
     "name": "stdout",
     "output_type": "stream",
     "text": [
      "Statistics=0.998, p=0.987\n",
      "Sample is from Normal Population (fail to reject H0)\n"
     ]
    }
   ],
   "source": [
    "# normality test\n",
    "stat, p = shapiro(df['Income'])\n",
    "print('Statistics=%.3f, p=%.3f' % (stat, p))\n",
    "# interpret\n",
    "alpha = 0.05\n",
    "if p > alpha:\n",
    "    print('Sample is from Normal Population (fail to reject H0)')\n",
    "else:\n",
    "    print('Samples is not from Normal Population (reject H0)')"
   ]
  },
  {
   "cell_type": "code",
   "execution_count": 21,
   "metadata": {},
   "outputs": [
    {
     "data": {
      "text/plain": [
       "Ttest_1sampResult(statistic=-17.134508702826132, pvalue=1.0354363597848094e-44)"
      ]
     },
     "execution_count": 21,
     "metadata": {},
     "output_type": "execute_result"
    }
   ],
   "source": [
    "ttest_1samp(df['Income'],40000)\n",
    "\n",
    "#Rejects the Null hypo\n",
    "#Inference - So Population average(mean) Income is not 40000"
   ]
  },
  {
   "cell_type": "code",
   "execution_count": 24,
   "metadata": {},
   "outputs": [],
   "source": [
    "#Post hoc"
   ]
  },
  {
   "cell_type": "code",
   "execution_count": 25,
   "metadata": {},
   "outputs": [
    {
     "data": {
      "text/plain": [
       "30104.583333333332"
      ]
     },
     "execution_count": 25,
     "metadata": {},
     "output_type": "execute_result"
    }
   ],
   "source": [
    "np.mean(df['Income'])"
   ]
  },
  {
   "cell_type": "code",
   "execution_count": 26,
   "metadata": {},
   "outputs": [
    {
     "data": {
      "text/plain": [
       "Ttest_1sampResult(statistic=0.18109232744154738, pvalue=0.8564345845395784)"
      ]
     },
     "execution_count": 26,
     "metadata": {},
     "output_type": "execute_result"
    }
   ],
   "source": [
    "#The expectations would match at 30000. so here exepctations from manager is worng\n",
    "ttest_1samp(df['Income'],30000)\n"
   ]
  },
  {
   "cell_type": "raw",
   "metadata": {},
   "source": [
    "Q3.To improve the Service strategy, the bank has divided its customer into different age groups. The groups are segregated as follows.\n",
    "Age limits(in years)\tGroup\n",
    "0 - 18\tGroup-A\n",
    "19 – 24\tGroup-B\n",
    "25 – 30\tGroup-C\n",
    "31 – 40\tGroup-D\n",
    "41 – 48\tGroup-E\n",
    "49 & More\tGroup-F\n",
    "\n"
   ]
  },
  {
   "cell_type": "code",
   "execution_count": 28,
   "metadata": {},
   "outputs": [
    {
     "data": {
      "text/html": [
       "<div>\n",
       "<style scoped>\n",
       "    .dataframe tbody tr th:only-of-type {\n",
       "        vertical-align: middle;\n",
       "    }\n",
       "\n",
       "    .dataframe tbody tr th {\n",
       "        vertical-align: top;\n",
       "    }\n",
       "\n",
       "    .dataframe thead th {\n",
       "        text-align: right;\n",
       "    }\n",
       "</style>\n",
       "<table border=\"1\" class=\"dataframe\">\n",
       "  <thead>\n",
       "    <tr style=\"text-align: right;\">\n",
       "      <th></th>\n",
       "      <th>User I.D</th>\n",
       "      <th>Age</th>\n",
       "      <th>Income</th>\n",
       "      <th>Income2</th>\n",
       "      <th>Deposit</th>\n",
       "      <th>Deposit2</th>\n",
       "      <th>Customer_type</th>\n",
       "      <th>Deposit_Scheme</th>\n",
       "    </tr>\n",
       "  </thead>\n",
       "  <tbody>\n",
       "    <tr>\n",
       "      <th>0</th>\n",
       "      <td>ACX570081</td>\n",
       "      <td>26</td>\n",
       "      <td>32900</td>\n",
       "      <td>20230</td>\n",
       "      <td>14805.0</td>\n",
       "      <td>11935.7</td>\n",
       "      <td>Irregular</td>\n",
       "      <td>Hal-Yearly</td>\n",
       "    </tr>\n",
       "    <tr>\n",
       "      <th>1</th>\n",
       "      <td>ACX570082</td>\n",
       "      <td>43</td>\n",
       "      <td>37390</td>\n",
       "      <td>21410</td>\n",
       "      <td>19442.8</td>\n",
       "      <td>10276.8</td>\n",
       "      <td>Regular</td>\n",
       "      <td>Quaterly</td>\n",
       "    </tr>\n",
       "  </tbody>\n",
       "</table>\n",
       "</div>"
      ],
      "text/plain": [
       "    User I.D  Age  Income  Income2  Deposit  Deposit2 Customer_type  \\\n",
       "0  ACX570081   26   32900    20230  14805.0   11935.7     Irregular   \n",
       "1  ACX570082   43   37390    21410  19442.8   10276.8       Regular   \n",
       "\n",
       "  Deposit_Scheme  \n",
       "0     Hal-Yearly  \n",
       "1       Quaterly  "
      ]
     },
     "execution_count": 28,
     "metadata": {},
     "output_type": "execute_result"
    }
   ],
   "source": [
    "df.head(2)"
   ]
  },
  {
   "cell_type": "code",
   "execution_count": 30,
   "metadata": {},
   "outputs": [],
   "source": [
    "bins = [0, 18, 24, 30, 40, 48, np.inf]\n",
    "names = [\"Group-A\", \"Group-B\", \"Group-C\", \"Group-D\" , \"Group-E\" , \"Group-F\" ]\n",
    "\n",
    "df['Age_Group'] = pd.cut(df.Age, bins, labels=names)\n"
   ]
  },
  {
   "cell_type": "code",
   "execution_count": 32,
   "metadata": {},
   "outputs": [
    {
     "data": {
      "text/html": [
       "<div>\n",
       "<style scoped>\n",
       "    .dataframe tbody tr th:only-of-type {\n",
       "        vertical-align: middle;\n",
       "    }\n",
       "\n",
       "    .dataframe tbody tr th {\n",
       "        vertical-align: top;\n",
       "    }\n",
       "\n",
       "    .dataframe thead th {\n",
       "        text-align: right;\n",
       "    }\n",
       "</style>\n",
       "<table border=\"1\" class=\"dataframe\">\n",
       "  <thead>\n",
       "    <tr style=\"text-align: right;\">\n",
       "      <th></th>\n",
       "      <th>User I.D</th>\n",
       "      <th>Age</th>\n",
       "      <th>Income</th>\n",
       "      <th>Income2</th>\n",
       "      <th>Deposit</th>\n",
       "      <th>Deposit2</th>\n",
       "      <th>Customer_type</th>\n",
       "      <th>Deposit_Scheme</th>\n",
       "      <th>Age_Group</th>\n",
       "    </tr>\n",
       "  </thead>\n",
       "  <tbody>\n",
       "    <tr>\n",
       "      <th>0</th>\n",
       "      <td>ACX570081</td>\n",
       "      <td>26</td>\n",
       "      <td>32900</td>\n",
       "      <td>20230</td>\n",
       "      <td>14805.0</td>\n",
       "      <td>11935.7</td>\n",
       "      <td>Irregular</td>\n",
       "      <td>Hal-Yearly</td>\n",
       "      <td>Group-C</td>\n",
       "    </tr>\n",
       "    <tr>\n",
       "      <th>1</th>\n",
       "      <td>ACX570082</td>\n",
       "      <td>43</td>\n",
       "      <td>37390</td>\n",
       "      <td>21410</td>\n",
       "      <td>19442.8</td>\n",
       "      <td>10276.8</td>\n",
       "      <td>Regular</td>\n",
       "      <td>Quaterly</td>\n",
       "      <td>Group-E</td>\n",
       "    </tr>\n",
       "    <tr>\n",
       "      <th>2</th>\n",
       "      <td>ACX570083</td>\n",
       "      <td>35</td>\n",
       "      <td>11300</td>\n",
       "      <td>22290</td>\n",
       "      <td>5989.0</td>\n",
       "      <td>9361.8</td>\n",
       "      <td>Irregular</td>\n",
       "      <td>Monthly</td>\n",
       "      <td>Group-D</td>\n",
       "    </tr>\n",
       "    <tr>\n",
       "      <th>3</th>\n",
       "      <td>ACX570084</td>\n",
       "      <td>27</td>\n",
       "      <td>41680</td>\n",
       "      <td>26970</td>\n",
       "      <td>19589.6</td>\n",
       "      <td>15912.3</td>\n",
       "      <td>Irregular</td>\n",
       "      <td>Quaterly</td>\n",
       "      <td>Group-C</td>\n",
       "    </tr>\n",
       "    <tr>\n",
       "      <th>4</th>\n",
       "      <td>ACX570085</td>\n",
       "      <td>42</td>\n",
       "      <td>27170</td>\n",
       "      <td>27220</td>\n",
       "      <td>14943.5</td>\n",
       "      <td>11160.2</td>\n",
       "      <td>Regular</td>\n",
       "      <td>Quaterly</td>\n",
       "      <td>Group-E</td>\n",
       "    </tr>\n",
       "  </tbody>\n",
       "</table>\n",
       "</div>"
      ],
      "text/plain": [
       "    User I.D  Age  Income  Income2  Deposit  Deposit2 Customer_type  \\\n",
       "0  ACX570081   26   32900    20230  14805.0   11935.7     Irregular   \n",
       "1  ACX570082   43   37390    21410  19442.8   10276.8       Regular   \n",
       "2  ACX570083   35   11300    22290   5989.0    9361.8     Irregular   \n",
       "3  ACX570084   27   41680    26970  19589.6   15912.3     Irregular   \n",
       "4  ACX570085   42   27170    27220  14943.5   11160.2       Regular   \n",
       "\n",
       "  Deposit_Scheme Age_Group  \n",
       "0     Hal-Yearly   Group-C  \n",
       "1       Quaterly   Group-E  \n",
       "2        Monthly   Group-D  \n",
       "3       Quaterly   Group-C  \n",
       "4       Quaterly   Group-E  "
      ]
     },
     "execution_count": 32,
     "metadata": {},
     "output_type": "execute_result"
    }
   ],
   "source": [
    "df.head()"
   ]
  },
  {
   "cell_type": "code",
   "execution_count": null,
   "metadata": {},
   "outputs": [],
   "source": [
    "Q3 contd Now the bank wants the see the variation of average income over different age group\n"
   ]
  },
  {
   "cell_type": "code",
   "execution_count": 33,
   "metadata": {},
   "outputs": [
    {
     "data": {
      "image/png": "[encoded data removed]",
      "text/plain": [
       "<Figure size 432x288 with 1 Axes>"
      ]
     },
     "metadata": {
      "needs_background": "light"
     },
     "output_type": "display_data"
    }
   ],
   "source": [
    "sns.boxplot(x='Age_Group',y='Income',data=df)\n",
    "plt.show()"
   ]
  },
  {
   "cell_type": "code",
   "execution_count": null,
   "metadata": {},
   "outputs": [],
   "source": [
    "This question we use statistical test - ANOVA. bcoz we have multiple groups A-F and other is continonus "
   ]
  },
  {
   "cell_type": "code",
   "execution_count": 34,
   "metadata": {},
   "outputs": [],
   "source": [
    "import statsmodels.api         as     sm\n",
    "from   statsmodels.formula.api import ols\n",
    "from   statsmodels.stats.anova import anova_lm"
   ]
  },
  {
   "cell_type": "code",
   "execution_count": 35,
   "metadata": {},
   "outputs": [
    {
     "name": "stdout",
     "output_type": "stream",
     "text": [
      "                 sum_sq     df         F    PR(>F)\n",
      "Age_Group  1.806153e+08    5.0  0.405621  0.844716\n",
      "Residual   2.297650e+10  258.0       NaN       NaN\n"
     ]
    }
   ],
   "source": [
    "mod=ols('Income ~ Age_Group',data=df).fit()\n",
    "aov_table=sm.stats.anova_lm(mod,typ=2)\n",
    "print(aov_table)"
   ]
  },
  {
   "cell_type": "raw",
   "metadata": {},
   "source": [
    "As the p-value (.844716) is greater than alpha (0.05) implies,We fail to reject Null hypothesis.That means mean Income over different Age group is same or in other words different Age Group has no influence on Income. \n"
   ]
  },
  {
   "cell_type": "raw",
   "metadata": {},
   "source": [
    "Q4.The bank wants the see the variation of average Income over different Deposit Scheme\n"
   ]
  },
  {
   "cell_type": "code",
   "execution_count": 36,
   "metadata": {},
   "outputs": [
    {
     "data": {
      "text/html": [
       "<div>\n",
       "<style scoped>\n",
       "    .dataframe tbody tr th:only-of-type {\n",
       "        vertical-align: middle;\n",
       "    }\n",
       "\n",
       "    .dataframe tbody tr th {\n",
       "        vertical-align: top;\n",
       "    }\n",
       "\n",
       "    .dataframe thead th {\n",
       "        text-align: right;\n",
       "    }\n",
       "</style>\n",
       "<table border=\"1\" class=\"dataframe\">\n",
       "  <thead>\n",
       "    <tr style=\"text-align: right;\">\n",
       "      <th></th>\n",
       "      <th>User I.D</th>\n",
       "      <th>Age</th>\n",
       "      <th>Income</th>\n",
       "      <th>Income2</th>\n",
       "      <th>Deposit</th>\n",
       "      <th>Deposit2</th>\n",
       "      <th>Customer_type</th>\n",
       "      <th>Deposit_Scheme</th>\n",
       "      <th>Age_Group</th>\n",
       "    </tr>\n",
       "  </thead>\n",
       "  <tbody>\n",
       "    <tr>\n",
       "      <th>0</th>\n",
       "      <td>ACX570081</td>\n",
       "      <td>26</td>\n",
       "      <td>32900</td>\n",
       "      <td>20230</td>\n",
       "      <td>14805.0</td>\n",
       "      <td>11935.7</td>\n",
       "      <td>Irregular</td>\n",
       "      <td>Hal-Yearly</td>\n",
       "      <td>Group-C</td>\n",
       "    </tr>\n",
       "    <tr>\n",
       "      <th>1</th>\n",
       "      <td>ACX570082</td>\n",
       "      <td>43</td>\n",
       "      <td>37390</td>\n",
       "      <td>21410</td>\n",
       "      <td>19442.8</td>\n",
       "      <td>10276.8</td>\n",
       "      <td>Regular</td>\n",
       "      <td>Quaterly</td>\n",
       "      <td>Group-E</td>\n",
       "    </tr>\n",
       "    <tr>\n",
       "      <th>2</th>\n",
       "      <td>ACX570083</td>\n",
       "      <td>35</td>\n",
       "      <td>11300</td>\n",
       "      <td>22290</td>\n",
       "      <td>5989.0</td>\n",
       "      <td>9361.8</td>\n",
       "      <td>Irregular</td>\n",
       "      <td>Monthly</td>\n",
       "      <td>Group-D</td>\n",
       "    </tr>\n",
       "    <tr>\n",
       "      <th>3</th>\n",
       "      <td>ACX570084</td>\n",
       "      <td>27</td>\n",
       "      <td>41680</td>\n",
       "      <td>26970</td>\n",
       "      <td>19589.6</td>\n",
       "      <td>15912.3</td>\n",
       "      <td>Irregular</td>\n",
       "      <td>Quaterly</td>\n",
       "      <td>Group-C</td>\n",
       "    </tr>\n",
       "    <tr>\n",
       "      <th>4</th>\n",
       "      <td>ACX570085</td>\n",
       "      <td>42</td>\n",
       "      <td>27170</td>\n",
       "      <td>27220</td>\n",
       "      <td>14943.5</td>\n",
       "      <td>11160.2</td>\n",
       "      <td>Regular</td>\n",
       "      <td>Quaterly</td>\n",
       "      <td>Group-E</td>\n",
       "    </tr>\n",
       "  </tbody>\n",
       "</table>\n",
       "</div>"
      ],
      "text/plain": [
       "    User I.D  Age  Income  Income2  Deposit  Deposit2 Customer_type  \\\n",
       "0  ACX570081   26   32900    20230  14805.0   11935.7     Irregular   \n",
       "1  ACX570082   43   37390    21410  19442.8   10276.8       Regular   \n",
       "2  ACX570083   35   11300    22290   5989.0    9361.8     Irregular   \n",
       "3  ACX570084   27   41680    26970  19589.6   15912.3     Irregular   \n",
       "4  ACX570085   42   27170    27220  14943.5   11160.2       Regular   \n",
       "\n",
       "  Deposit_Scheme Age_Group  \n",
       "0     Hal-Yearly   Group-C  \n",
       "1       Quaterly   Group-E  \n",
       "2        Monthly   Group-D  \n",
       "3       Quaterly   Group-C  \n",
       "4       Quaterly   Group-E  "
      ]
     },
     "execution_count": 36,
     "metadata": {},
     "output_type": "execute_result"
    }
   ],
   "source": [
    "df.head()"
   ]
  },
  {
   "cell_type": "code",
   "execution_count": 39,
   "metadata": {},
   "outputs": [
    {
     "data": {
      "image/png": "[encoded data removed]",
      "text/plain": [
       "<Figure size 432x288 with 1 Axes>"
      ]
     },
     "metadata": {
      "needs_background": "light"
     },
     "output_type": "display_data"
    }
   ],
   "source": [
    "sns.boxplot(x = \"Deposit_Scheme\", y = \"Income\", data = df)\n",
    "plt.title('Mean Income by  Deposit')\n",
    "plt.show()\n"
   ]
  },
  {
   "cell_type": "code",
   "execution_count": 37,
   "metadata": {},
   "outputs": [
    {
     "name": "stdout",
     "output_type": "stream",
     "text": [
      "                      sum_sq     df         F        PR(>F)\n",
      "Deposit_Scheme  7.799853e+09    3.0  44.01742  4.891310e-23\n",
      "Residual        1.535727e+10  260.0       NaN           NaN\n"
     ]
    }
   ],
   "source": [
    "mod=ols('Income ~ Deposit_Scheme',data=df).fit()\n",
    "aov_table=sm.stats.anova_lm(mod,typ=2)\n",
    "print(aov_table)"
   ]
  },
  {
   "cell_type": "raw",
   "metadata": {},
   "source": [
    "pvalue<0.05 so we reject the Null hypothesis. so we accept Ha"
   ]
  },
  {
   "cell_type": "raw",
   "metadata": {},
   "source": [
    "Post Hoc Analysis"
   ]
  },
  {
   "cell_type": "raw",
   "metadata": {},
   "source": [
    "Average income is lowest average salary for Monthly, Yearly one is highest , Halfyearly and Quarterly are almost same.\n",
    "Based on the Boxplot"
   ]
  },
  {
   "cell_type": "code",
   "execution_count": null,
   "metadata": {},
   "outputs": [],
   "source": [
    "#Applicable for Anova only and not chisquare - For stats verifications"
   ]
  },
  {
   "cell_type": "code",
   "execution_count": 41,
   "metadata": {},
   "outputs": [
    {
     "name": "stdout",
     "output_type": "stream",
     "text": [
      "        Multiple Comparison of Means - Tukey HSD, FWER=0.05        \n",
      "===================================================================\n",
      "  group1    group2   meandiff  p-adj     lower      upper    reject\n",
      "-------------------------------------------------------------------\n",
      "Hal-Yearly  Monthly -11265.787  0.001 -15750.5592 -6781.0149   True\n",
      "Hal-Yearly Quaterly -1084.7775 0.7602   -4081.533  1911.9779  False\n",
      "Hal-Yearly   Yearly  9037.4893  0.001   5420.7781 12654.2006   True\n",
      "   Monthly Quaterly 10181.0095  0.001   5923.9097 14438.1093   True\n",
      "   Monthly   Yearly 20303.2764  0.001  15589.1534 25017.3993   True\n",
      "  Quaterly   Yearly 10122.2668  0.001    6792.054 13452.4797   True\n",
      "-------------------------------------------------------------------\n"
     ]
    }
   ],
   "source": [
    "#See at 1:30:00\n",
    "\n",
    "from statsmodels.stats.multicomp import pairwise_tukeyhsd\n",
    "print(pairwise_tukeyhsd(df['Income'],df['Deposit_Scheme']))\n"
   ]
  },
  {
   "cell_type": "raw",
   "metadata": {},
   "source": [
    "Q5. The bank wants the see the variation of average income over different Customer type"
   ]
  },
  {
   "cell_type": "code",
   "execution_count": 42,
   "metadata": {},
   "outputs": [
    {
     "data": {
      "text/html": [
       "<div>\n",
       "<style scoped>\n",
       "    .dataframe tbody tr th:only-of-type {\n",
       "        vertical-align: middle;\n",
       "    }\n",
       "\n",
       "    .dataframe tbody tr th {\n",
       "        vertical-align: top;\n",
       "    }\n",
       "\n",
       "    .dataframe thead th {\n",
       "        text-align: right;\n",
       "    }\n",
       "</style>\n",
       "<table border=\"1\" class=\"dataframe\">\n",
       "  <thead>\n",
       "    <tr style=\"text-align: right;\">\n",
       "      <th></th>\n",
       "      <th>User I.D</th>\n",
       "      <th>Age</th>\n",
       "      <th>Income</th>\n",
       "      <th>Income2</th>\n",
       "      <th>Deposit</th>\n",
       "      <th>Deposit2</th>\n",
       "      <th>Customer_type</th>\n",
       "      <th>Deposit_Scheme</th>\n",
       "      <th>Age_Group</th>\n",
       "    </tr>\n",
       "  </thead>\n",
       "  <tbody>\n",
       "    <tr>\n",
       "      <th>0</th>\n",
       "      <td>ACX570081</td>\n",
       "      <td>26</td>\n",
       "      <td>32900</td>\n",
       "      <td>20230</td>\n",
       "      <td>14805.0</td>\n",
       "      <td>11935.7</td>\n",
       "      <td>Irregular</td>\n",
       "      <td>Hal-Yearly</td>\n",
       "      <td>Group-C</td>\n",
       "    </tr>\n",
       "    <tr>\n",
       "      <th>1</th>\n",
       "      <td>ACX570082</td>\n",
       "      <td>43</td>\n",
       "      <td>37390</td>\n",
       "      <td>21410</td>\n",
       "      <td>19442.8</td>\n",
       "      <td>10276.8</td>\n",
       "      <td>Regular</td>\n",
       "      <td>Quaterly</td>\n",
       "      <td>Group-E</td>\n",
       "    </tr>\n",
       "    <tr>\n",
       "      <th>2</th>\n",
       "      <td>ACX570083</td>\n",
       "      <td>35</td>\n",
       "      <td>11300</td>\n",
       "      <td>22290</td>\n",
       "      <td>5989.0</td>\n",
       "      <td>9361.8</td>\n",
       "      <td>Irregular</td>\n",
       "      <td>Monthly</td>\n",
       "      <td>Group-D</td>\n",
       "    </tr>\n",
       "    <tr>\n",
       "      <th>3</th>\n",
       "      <td>ACX570084</td>\n",
       "      <td>27</td>\n",
       "      <td>41680</td>\n",
       "      <td>26970</td>\n",
       "      <td>19589.6</td>\n",
       "      <td>15912.3</td>\n",
       "      <td>Irregular</td>\n",
       "      <td>Quaterly</td>\n",
       "      <td>Group-C</td>\n",
       "    </tr>\n",
       "    <tr>\n",
       "      <th>4</th>\n",
       "      <td>ACX570085</td>\n",
       "      <td>42</td>\n",
       "      <td>27170</td>\n",
       "      <td>27220</td>\n",
       "      <td>14943.5</td>\n",
       "      <td>11160.2</td>\n",
       "      <td>Regular</td>\n",
       "      <td>Quaterly</td>\n",
       "      <td>Group-E</td>\n",
       "    </tr>\n",
       "    <tr>\n",
       "      <th>...</th>\n",
       "      <td>...</td>\n",
       "      <td>...</td>\n",
       "      <td>...</td>\n",
       "      <td>...</td>\n",
       "      <td>...</td>\n",
       "      <td>...</td>\n",
       "      <td>...</td>\n",
       "      <td>...</td>\n",
       "      <td>...</td>\n",
       "    </tr>\n",
       "    <tr>\n",
       "      <th>259</th>\n",
       "      <td>ACX570326</td>\n",
       "      <td>28</td>\n",
       "      <td>35350</td>\n",
       "      <td>22240</td>\n",
       "      <td>15907.5</td>\n",
       "      <td>9785.6</td>\n",
       "      <td>Irregular</td>\n",
       "      <td>Yearly</td>\n",
       "      <td>Group-C</td>\n",
       "    </tr>\n",
       "    <tr>\n",
       "      <th>260</th>\n",
       "      <td>ACX570327</td>\n",
       "      <td>36</td>\n",
       "      <td>21500</td>\n",
       "      <td>34410</td>\n",
       "      <td>10535.0</td>\n",
       "      <td>17893.2</td>\n",
       "      <td>Regular</td>\n",
       "      <td>Quaterly</td>\n",
       "      <td>Group-D</td>\n",
       "    </tr>\n",
       "    <tr>\n",
       "      <th>261</th>\n",
       "      <td>ACX570328</td>\n",
       "      <td>25</td>\n",
       "      <td>27840</td>\n",
       "      <td>24250</td>\n",
       "      <td>16425.6</td>\n",
       "      <td>10427.5</td>\n",
       "      <td>Irregular</td>\n",
       "      <td>Quaterly</td>\n",
       "      <td>Group-C</td>\n",
       "    </tr>\n",
       "    <tr>\n",
       "      <th>262</th>\n",
       "      <td>ACX570329</td>\n",
       "      <td>36</td>\n",
       "      <td>38530</td>\n",
       "      <td>26800</td>\n",
       "      <td>18494.4</td>\n",
       "      <td>11256.0</td>\n",
       "      <td>Regular</td>\n",
       "      <td>Quaterly</td>\n",
       "      <td>Group-D</td>\n",
       "    </tr>\n",
       "    <tr>\n",
       "      <th>263</th>\n",
       "      <td>ACX570330</td>\n",
       "      <td>49</td>\n",
       "      <td>36170</td>\n",
       "      <td>26010</td>\n",
       "      <td>20616.9</td>\n",
       "      <td>15866.1</td>\n",
       "      <td>Regular</td>\n",
       "      <td>Monthly</td>\n",
       "      <td>Group-F</td>\n",
       "    </tr>\n",
       "  </tbody>\n",
       "</table>\n",
       "<p>264 rows × 9 columns</p>\n",
       "</div>"
      ],
      "text/plain": [
       "      User I.D  Age  Income  Income2  Deposit  Deposit2 Customer_type  \\\n",
       "0    ACX570081   26   32900    20230  14805.0   11935.7     Irregular   \n",
       "1    ACX570082   43   37390    21410  19442.8   10276.8       Regular   \n",
       "2    ACX570083   35   11300    22290   5989.0    9361.8     Irregular   \n",
       "3    ACX570084   27   41680    26970  19589.6   15912.3     Irregular   \n",
       "4    ACX570085   42   27170    27220  14943.5   11160.2       Regular   \n",
       "..         ...  ...     ...      ...      ...       ...           ...   \n",
       "259  ACX570326   28   35350    22240  15907.5    9785.6     Irregular   \n",
       "260  ACX570327   36   21500    34410  10535.0   17893.2       Regular   \n",
       "261  ACX570328   25   27840    24250  16425.6   10427.5     Irregular   \n",
       "262  ACX570329   36   38530    26800  18494.4   11256.0       Regular   \n",
       "263  ACX570330   49   36170    26010  20616.9   15866.1       Regular   \n",
       "\n",
       "    Deposit_Scheme Age_Group  \n",
       "0       Hal-Yearly   Group-C  \n",
       "1         Quaterly   Group-E  \n",
       "2          Monthly   Group-D  \n",
       "3         Quaterly   Group-C  \n",
       "4         Quaterly   Group-E  \n",
       "..             ...       ...  \n",
       "259         Yearly   Group-C  \n",
       "260       Quaterly   Group-D  \n",
       "261       Quaterly   Group-C  \n",
       "262       Quaterly   Group-D  \n",
       "263        Monthly   Group-F  \n",
       "\n",
       "[264 rows x 9 columns]"
      ]
     },
     "execution_count": 42,
     "metadata": {},
     "output_type": "execute_result"
    }
   ],
   "source": [
    "df"
   ]
  },
  {
   "cell_type": "code",
   "execution_count": 48,
   "metadata": {},
   "outputs": [
    {
     "data": {
      "text/plain": [
       "<matplotlib.axes._subplots.AxesSubplot at 0x233b8ebf908>"
      ]
     },
     "execution_count": 48,
     "metadata": {},
     "output_type": "execute_result"
    },
    {
     "data": {
      "image/png": "[encoded data removed]",
      "text/plain": [
       "<Figure size 432x288 with 1 Axes>"
      ]
     },
     "metadata": {
      "needs_background": "light"
     },
     "output_type": "display_data"
    }
   ],
   "source": [
    "sns.boxplot(x='Customer_type',y='Income',data=df)"
   ]
  },
  {
   "cell_type": "code",
   "execution_count": 44,
   "metadata": {},
   "outputs": [],
   "source": [
    "Irregular_Customer = np.array(df[df['Customer_type']=='Irregular']['Income'])\n",
    "Regular_Customer = np.array(df[df['Customer_type']=='Regular']['Income'])\n"
   ]
  },
  {
   "cell_type": "code",
   "execution_count": 45,
   "metadata": {},
   "outputs": [
    {
     "data": {
      "text/plain": [
       "(0.9936540126800537, 0.9891098141670227)"
      ]
     },
     "execution_count": 45,
     "metadata": {},
     "output_type": "execute_result"
    }
   ],
   "source": [
    "shapiro(Irregular_Customer)"
   ]
  },
  {
   "cell_type": "code",
   "execution_count": 46,
   "metadata": {},
   "outputs": [
    {
     "data": {
      "text/plain": [
       "(0.9975496530532837, 0.9886366724967957)"
      ]
     },
     "execution_count": 46,
     "metadata": {},
     "output_type": "execute_result"
    }
   ],
   "source": [
    "shapiro(Regular_Customer)"
   ]
  },
  {
   "cell_type": "code",
   "execution_count": 47,
   "metadata": {},
   "outputs": [
    {
     "data": {
      "text/plain": [
       "Ttest_indResult(statistic=-0.2811492874726788, pvalue=0.7788178055635818)"
      ]
     },
     "execution_count": 47,
     "metadata": {},
     "output_type": "execute_result"
    }
   ],
   "source": [
    "ttest_ind(Irregular_Customer,Regular_Customer)"
   ]
  },
  {
   "cell_type": "code",
   "execution_count": null,
   "metadata": {},
   "outputs": [],
   "source": [
    "Null hypothesis is Accepted as pvalue is high"
   ]
  },
  {
   "cell_type": "code",
   "execution_count": null,
   "metadata": {},
   "outputs": [],
   "source": []
  },
  {
   "cell_type": "raw",
   "metadata": {},
   "source": [
    "Q6. Before Corona the mean Deposit of the customers was 15500\n"
   ]
  },
  {
   "cell_type": "code",
   "execution_count": 50,
   "metadata": {},
   "outputs": [
    {
     "data": {
      "text/plain": [
       "(0.9948977828025818, 0.5275180339813232)"
      ]
     },
     "execution_count": 50,
     "metadata": {},
     "output_type": "execute_result"
    }
   ],
   "source": [
    "shapiro(df['Deposit'])"
   ]
  },
  {
   "cell_type": "code",
   "execution_count": 51,
   "metadata": {},
   "outputs": [
    {
     "data": {
      "text/plain": [
       "Ttest_1sampResult(statistic=0.31763635958734804, pvalue=0.7510128288252916)"
      ]
     },
     "execution_count": 51,
     "metadata": {},
     "output_type": "execute_result"
    }
   ],
   "source": [
    "ttest_1samp(df['Deposit'],15500)"
   ]
  },
  {
   "cell_type": "code",
   "execution_count": null,
   "metadata": {},
   "outputs": [],
   "source": [
    "#Null hypo is accepted and Expectations matches"
   ]
  },
  {
   "cell_type": "raw",
   "metadata": {},
   "source": [
    "Q7.Now the bank wants the see the variation of average Deposit over different age group\n"
   ]
  },
  {
   "cell_type": "code",
   "execution_count": 52,
   "metadata": {},
   "outputs": [
    {
     "data": {
      "image/png": "[encoded data removed]",
      "text/plain": [
       "<Figure size 432x288 with 1 Axes>"
      ]
     },
     "metadata": {
      "needs_background": "light"
     },
     "output_type": "display_data"
    }
   ],
   "source": [
    "sns.boxplot(x='Age_Group',y='Deposit',data=df)\n",
    "plt.show()"
   ]
  },
  {
   "cell_type": "code",
   "execution_count": null,
   "metadata": {},
   "outputs": [],
   "source": [
    "#Anova test"
   ]
  },
  {
   "cell_type": "code",
   "execution_count": 53,
   "metadata": {},
   "outputs": [
    {
     "name": "stdout",
     "output_type": "stream",
     "text": [
      "                 sum_sq     df         F    PR(>F)\n",
      "Age_Group  5.336406e+07    5.0  0.392541  0.853745\n",
      "Residual   7.014766e+09  258.0       NaN       NaN\n"
     ]
    }
   ],
   "source": [
    "mod=ols('Deposit ~ Age_Group',data=df).fit()\n",
    "aov_table=sm.stats.anova_lm(mod,typ=2)\n",
    "print(aov_table)"
   ]
  },
  {
   "cell_type": "raw",
   "metadata": {},
   "source": [
    "Inference - As the p-value (.853745) is greater than alpha (0.05) implies,We fail to reject Null hypothesis.That means mean Deposit over different Age group is same or in other words different Age Group has no influence on Deposit. \n"
   ]
  },
  {
   "cell_type": "raw",
   "metadata": {},
   "source": [
    "Q8.The bank wants the see the variation of average Deposit over different Deposit Scheme\n"
   ]
  },
  {
   "cell_type": "code",
   "execution_count": 55,
   "metadata": {},
   "outputs": [
    {
     "data": {
      "image/png": "[encoded data removed]",
      "text/plain": [
       "<Figure size 432x288 with 1 Axes>"
      ]
     },
     "metadata": {
      "needs_background": "light"
     },
     "output_type": "display_data"
    }
   ],
   "source": [
    "sns.boxplot(x='Deposit_Scheme',y='Deposit',data=df)\n",
    "plt.show()\n",
    "\n",
    "\n",
    "#siilar to income pattern"
   ]
  },
  {
   "cell_type": "code",
   "execution_count": 56,
   "metadata": {},
   "outputs": [
    {
     "name": "stdout",
     "output_type": "stream",
     "text": [
      "                      sum_sq     df          F        PR(>F)\n",
      "Deposit_Scheme  1.964786e+09    3.0  33.366631  2.808481e-18\n",
      "Residual        5.103345e+09  260.0        NaN           NaN\n"
     ]
    }
   ],
   "source": [
    "mod=ols('Deposit ~ Deposit_Scheme',data=df).fit()\n",
    "aov_table=sm.stats.anova_lm(mod,typ=2)\n",
    "print(aov_table)"
   ]
  },
  {
   "cell_type": "raw",
   "metadata": {},
   "source": [
    "Inference:\n",
    "As the p-value (2.808481e-18) is less than alpha (0.05) implies,We reject Null hypothesis.That means mean Deposit over different Deposit Scheme are not same or in other words different Deposit Scheme has influence on Deposit. \n",
    "\n",
    "Now,we will try to find out for which Deposit scheme the mean deposit are not same.For that,we will conduct a Tuckey test.\n"
   ]
  },
  {
   "cell_type": "code",
   "execution_count": null,
   "metadata": {},
   "outputs": [],
   "source": [
    "#Tucky test - Post hoc"
   ]
  },
  {
   "cell_type": "code",
   "execution_count": 57,
   "metadata": {},
   "outputs": [
    {
     "name": "stdout",
     "output_type": "stream",
     "text": [
      "       Multiple Comparison of Means - Tukey HSD, FWER=0.05        \n",
      "==================================================================\n",
      "  group1    group2   meandiff  p-adj    lower      upper    reject\n",
      "------------------------------------------------------------------\n",
      "Hal-Yearly  Monthly -5822.5472  0.001 -8407.8468 -3237.2476   True\n",
      "Hal-Yearly Quaterly  -542.3653 0.8297 -2269.8802  1185.1496  False\n",
      "Hal-Yearly   Yearly  4421.7235  0.001  2336.8278  6506.6192   True\n",
      "   Monthly Quaterly  5280.1819  0.001  2826.1267  7734.2371   True\n",
      "   Monthly   Yearly 10244.2707  0.001  7526.7591 12961.7823   True\n",
      "  Quaterly   Yearly  4964.0888  0.001  3044.3485  6883.8292   True\n",
      "------------------------------------------------------------------\n"
     ]
    }
   ],
   "source": [
    "from statsmodels.stats.multicomp import pairwise_tukeyhsd\n",
    "print(pairwise_tukeyhsd(df['Deposit'],df['Deposit_Scheme']))"
   ]
  },
  {
   "cell_type": "code",
   "execution_count": null,
   "metadata": {},
   "outputs": [],
   "source": [
    "Income vs Deposit_scheme and Deposit vs Deposit_scheme are having similar graphs/boxplots\n",
    "\n",
    "So we can infer that Income and Deposit are highly correlated"
   ]
  },
  {
   "cell_type": "code",
   "execution_count": 58,
   "metadata": {},
   "outputs": [
    {
     "data": {
      "text/html": [
       "<div>\n",
       "<style scoped>\n",
       "    .dataframe tbody tr th:only-of-type {\n",
       "        vertical-align: middle;\n",
       "    }\n",
       "\n",
       "    .dataframe tbody tr th {\n",
       "        vertical-align: top;\n",
       "    }\n",
       "\n",
       "    .dataframe thead th {\n",
       "        text-align: right;\n",
       "    }\n",
       "</style>\n",
       "<table border=\"1\" class=\"dataframe\">\n",
       "  <thead>\n",
       "    <tr style=\"text-align: right;\">\n",
       "      <th></th>\n",
       "      <th>Income</th>\n",
       "      <th>Deposit</th>\n",
       "    </tr>\n",
       "  </thead>\n",
       "  <tbody>\n",
       "    <tr>\n",
       "      <th>Income</th>\n",
       "      <td>1.000000</td>\n",
       "      <td>0.908407</td>\n",
       "    </tr>\n",
       "    <tr>\n",
       "      <th>Deposit</th>\n",
       "      <td>0.908407</td>\n",
       "      <td>1.000000</td>\n",
       "    </tr>\n",
       "  </tbody>\n",
       "</table>\n",
       "</div>"
      ],
      "text/plain": [
       "           Income   Deposit\n",
       "Income   1.000000  0.908407\n",
       "Deposit  0.908407  1.000000"
      ]
     },
     "execution_count": 58,
     "metadata": {},
     "output_type": "execute_result"
    }
   ],
   "source": [
    "df[['Income','Deposit']].corr()"
   ]
  },
  {
   "cell_type": "code",
   "execution_count": 60,
   "metadata": {},
   "outputs": [
    {
     "data": {
      "text/plain": [
       "array([[1.        , 0.90840697],\n",
       "       [0.90840697, 1.        ]])"
      ]
     },
     "execution_count": 60,
     "metadata": {},
     "output_type": "execute_result"
    }
   ],
   "source": [
    "np.corrcoef(df['Income'],df['Deposit'])"
   ]
  },
  {
   "cell_type": "code",
   "execution_count": 64,
   "metadata": {},
   "outputs": [
    {
     "data": {
      "image/png": "[encoded data removed]",
      "text/plain": [
       "<Figure size 432x288 with 1 Axes>"
      ]
     },
     "metadata": {
      "needs_background": "light"
     },
     "output_type": "display_data"
    }
   ],
   "source": [
    "sns.scatterplot(x='Income',y='Deposit',data=df)\n",
    "plt.show()\n",
    "\n",
    "#Highly +ve correlation"
   ]
  },
  {
   "cell_type": "raw",
   "metadata": {},
   "source": [
    "See Q9 and Q10 after the break"
   ]
  },
  {
   "cell_type": "raw",
   "metadata": {},
   "source": [
    "Q9.The bank wants the see the variation of average Deposit over different Customer type \n",
    "\n",
    "similar to Q5. \n",
    "\n",
    "Change to Deposit instead of Income"
   ]
  },
  {
   "cell_type": "raw",
   "metadata": {},
   "source": [
    "Q10.Does there exist any relationship between Age Group & Deposit Scheme\n",
    "\n",
    "Both are Categorical so propotions test and have more than 2 so we go for chisquare test"
   ]
  },
  {
   "cell_type": "code",
   "execution_count": 66,
   "metadata": {},
   "outputs": [],
   "source": [
    "CT=pd.crosstab(df['Deposit_Scheme'],df['Age_Group'])\n"
   ]
  },
  {
   "cell_type": "code",
   "execution_count": 67,
   "metadata": {},
   "outputs": [
    {
     "data": {
      "text/html": [
       "<div>\n",
       "<style scoped>\n",
       "    .dataframe tbody tr th:only-of-type {\n",
       "        vertical-align: middle;\n",
       "    }\n",
       "\n",
       "    .dataframe tbody tr th {\n",
       "        vertical-align: top;\n",
       "    }\n",
       "\n",
       "    .dataframe thead th {\n",
       "        text-align: right;\n",
       "    }\n",
       "</style>\n",
       "<table border=\"1\" class=\"dataframe\">\n",
       "  <thead>\n",
       "    <tr style=\"text-align: right;\">\n",
       "      <th>Age_Group</th>\n",
       "      <th>Group-A</th>\n",
       "      <th>Group-B</th>\n",
       "      <th>Group-C</th>\n",
       "      <th>Group-D</th>\n",
       "      <th>Group-E</th>\n",
       "      <th>Group-F</th>\n",
       "    </tr>\n",
       "    <tr>\n",
       "      <th>Deposit_Scheme</th>\n",
       "      <th></th>\n",
       "      <th></th>\n",
       "      <th></th>\n",
       "      <th></th>\n",
       "      <th></th>\n",
       "      <th></th>\n",
       "    </tr>\n",
       "  </thead>\n",
       "  <tbody>\n",
       "    <tr>\n",
       "      <th>Hal-Yearly</th>\n",
       "      <td>0</td>\n",
       "      <td>3</td>\n",
       "      <td>15</td>\n",
       "      <td>41</td>\n",
       "      <td>13</td>\n",
       "      <td>0</td>\n",
       "    </tr>\n",
       "    <tr>\n",
       "      <th>Monthly</th>\n",
       "      <td>0</td>\n",
       "      <td>0</td>\n",
       "      <td>5</td>\n",
       "      <td>15</td>\n",
       "      <td>6</td>\n",
       "      <td>1</td>\n",
       "    </tr>\n",
       "    <tr>\n",
       "      <th>Quaterly</th>\n",
       "      <td>1</td>\n",
       "      <td>5</td>\n",
       "      <td>15</td>\n",
       "      <td>71</td>\n",
       "      <td>19</td>\n",
       "      <td>2</td>\n",
       "    </tr>\n",
       "    <tr>\n",
       "      <th>Yearly</th>\n",
       "      <td>0</td>\n",
       "      <td>3</td>\n",
       "      <td>11</td>\n",
       "      <td>29</td>\n",
       "      <td>9</td>\n",
       "      <td>0</td>\n",
       "    </tr>\n",
       "  </tbody>\n",
       "</table>\n",
       "</div>"
      ],
      "text/plain": [
       "Age_Group       Group-A  Group-B  Group-C  Group-D  Group-E  Group-F\n",
       "Deposit_Scheme                                                      \n",
       "Hal-Yearly            0        3       15       41       13        0\n",
       "Monthly               0        0        5       15        6        1\n",
       "Quaterly              1        5       15       71       19        2\n",
       "Yearly                0        3       11       29        9        0"
      ]
     },
     "execution_count": 67,
     "metadata": {},
     "output_type": "execute_result"
    }
   ],
   "source": [
    "CT"
   ]
  },
  {
   "cell_type": "code",
   "execution_count": 68,
   "metadata": {},
   "outputs": [
    {
     "data": {
      "text/plain": [
       "(0.4166666666666667, 0.4166666666666667)"
      ]
     },
     "execution_count": 68,
     "metadata": {},
     "output_type": "execute_result"
    }
   ],
   "source": [
    "15/36,15/36"
   ]
  },
  {
   "cell_type": "code",
   "execution_count": null,
   "metadata": {},
   "outputs": [],
   "source": [
    "Do the propotions test and dont look at the numbers"
   ]
  },
  {
   "cell_type": "code",
   "execution_count": null,
   "metadata": {},
   "outputs": [],
   "source": [
    "Quarterly Deposits are more than compared to all other."
   ]
  },
  {
   "cell_type": "code",
   "execution_count": 69,
   "metadata": {},
   "outputs": [
    {
     "data": {
      "text/plain": [
       "(9.050904513179914,\n",
       " 0.8748407909784324,\n",
       " 15,\n",
       " array([[ 0.27272727,  3.        , 12.54545455, 42.54545455, 12.81818182,\n",
       "          0.81818182],\n",
       "        [ 0.10227273,  1.125     ,  4.70454545, 15.95454545,  4.80681818,\n",
       "          0.30681818],\n",
       "        [ 0.4280303 ,  4.70833333, 19.68939394, 66.77272727, 20.11742424,\n",
       "          1.28409091],\n",
       "        [ 0.1969697 ,  2.16666667,  9.06060606, 30.72727273,  9.25757576,\n",
       "          0.59090909]]))"
      ]
     },
     "execution_count": 69,
     "metadata": {},
     "output_type": "execute_result"
    }
   ],
   "source": [
    "chi2_contingency(CT)"
   ]
  },
  {
   "cell_type": "raw",
   "metadata": {},
   "source": [
    "0.8748407909784324>0.05. Null hypo holds good. \n",
    "\n",
    "Propotions of people opting for schemes have similar pattern"
   ]
  },
  {
   "cell_type": "code",
   "execution_count": 70,
   "metadata": {},
   "outputs": [
    {
     "data": {
      "text/html": [
       "<div>\n",
       "<style scoped>\n",
       "    .dataframe tbody tr th:only-of-type {\n",
       "        vertical-align: middle;\n",
       "    }\n",
       "\n",
       "    .dataframe tbody tr th {\n",
       "        vertical-align: top;\n",
       "    }\n",
       "\n",
       "    .dataframe thead th {\n",
       "        text-align: right;\n",
       "    }\n",
       "</style>\n",
       "<table border=\"1\" class=\"dataframe\">\n",
       "  <thead>\n",
       "    <tr style=\"text-align: right;\">\n",
       "      <th>Age_Group</th>\n",
       "      <th>Group-A</th>\n",
       "      <th>Group-B</th>\n",
       "      <th>Group-C</th>\n",
       "      <th>Group-D</th>\n",
       "      <th>Group-E</th>\n",
       "      <th>Group-F</th>\n",
       "    </tr>\n",
       "    <tr>\n",
       "      <th>Deposit_Scheme</th>\n",
       "      <th></th>\n",
       "      <th></th>\n",
       "      <th></th>\n",
       "      <th></th>\n",
       "      <th></th>\n",
       "      <th></th>\n",
       "    </tr>\n",
       "  </thead>\n",
       "  <tbody>\n",
       "    <tr>\n",
       "      <th>Hal-Yearly</th>\n",
       "      <td>0</td>\n",
       "      <td>3</td>\n",
       "      <td>15</td>\n",
       "      <td>41</td>\n",
       "      <td>13</td>\n",
       "      <td>0</td>\n",
       "    </tr>\n",
       "    <tr>\n",
       "      <th>Monthly</th>\n",
       "      <td>0</td>\n",
       "      <td>0</td>\n",
       "      <td>5</td>\n",
       "      <td>15</td>\n",
       "      <td>6</td>\n",
       "      <td>1</td>\n",
       "    </tr>\n",
       "    <tr>\n",
       "      <th>Quaterly</th>\n",
       "      <td>1</td>\n",
       "      <td>5</td>\n",
       "      <td>15</td>\n",
       "      <td>71</td>\n",
       "      <td>19</td>\n",
       "      <td>2</td>\n",
       "    </tr>\n",
       "    <tr>\n",
       "      <th>Yearly</th>\n",
       "      <td>0</td>\n",
       "      <td>3</td>\n",
       "      <td>11</td>\n",
       "      <td>29</td>\n",
       "      <td>9</td>\n",
       "      <td>0</td>\n",
       "    </tr>\n",
       "  </tbody>\n",
       "</table>\n",
       "</div>"
      ],
      "text/plain": [
       "Age_Group       Group-A  Group-B  Group-C  Group-D  Group-E  Group-F\n",
       "Deposit_Scheme                                                      \n",
       "Hal-Yearly            0        3       15       41       13        0\n",
       "Monthly               0        0        5       15        6        1\n",
       "Quaterly              1        5       15       71       19        2\n",
       "Yearly                0        3       11       29        9        0"
      ]
     },
     "execution_count": 70,
     "metadata": {},
     "output_type": "execute_result"
    }
   ],
   "source": [
    "CT"
   ]
  },
  {
   "cell_type": "code",
   "execution_count": 71,
   "metadata": {},
   "outputs": [
    {
     "data": {
      "text/plain": [
       "(0.32608695652173914,\n",
       " 0.10869565217391304,\n",
       " 0.32608695652173914,\n",
       " 0.2391304347826087)"
      ]
     },
     "execution_count": 71,
     "metadata": {},
     "output_type": "execute_result"
    }
   ],
   "source": [
    "#group c\n",
    "\n",
    "15/46,5/46,15/46,11/46"
   ]
  },
  {
   "cell_type": "code",
   "execution_count": 72,
   "metadata": {},
   "outputs": [
    {
     "data": {
      "text/plain": [
       "(0.26282051282051283,\n",
       " 0.09615384615384616,\n",
       " 0.4551282051282051,\n",
       " 0.1858974358974359)"
      ]
     },
     "execution_count": 72,
     "metadata": {},
     "output_type": "execute_result"
    }
   ],
   "source": [
    "#group d\n",
    "\n",
    "41/156,15/156,71/156,29/156"
   ]
  },
  {
   "cell_type": "code",
   "execution_count": 73,
   "metadata": {},
   "outputs": [
    {
     "data": {
      "text/plain": [
       "(0.2765957446808511,\n",
       " 0.1276595744680851,\n",
       " 0.40425531914893614,\n",
       " 0.19148936170212766)"
      ]
     },
     "execution_count": 73,
     "metadata": {},
     "output_type": "execute_result"
    }
   ],
   "source": [
    "#group e\n",
    "\n",
    "13/47,6/47,19/47,9/47"
   ]
  },
  {
   "cell_type": "code",
   "execution_count": null,
   "metadata": {},
   "outputs": [],
   "source": [
    "Difference is within acceptable difference"
   ]
  },
  {
   "cell_type": "code",
   "execution_count": null,
   "metadata": {},
   "outputs": [],
   "source": [
    "#see this 2:18:00"
   ]
  },
  {
   "cell_type": "code",
   "execution_count": null,
   "metadata": {},
   "outputs": [],
   "source": [
    "Q11.Does there exist any relationship between Age Group & Customer type\n",
    "\n",
    "#Both are categorical so propotions and more than 2 groups so we go for chi2_contigency()"
   ]
  },
  {
   "cell_type": "code",
   "execution_count": 76,
   "metadata": {},
   "outputs": [
    {
     "data": {
      "text/html": [
       "<div>\n",
       "<style scoped>\n",
       "    .dataframe tbody tr th:only-of-type {\n",
       "        vertical-align: middle;\n",
       "    }\n",
       "\n",
       "    .dataframe tbody tr th {\n",
       "        vertical-align: top;\n",
       "    }\n",
       "\n",
       "    .dataframe thead th {\n",
       "        text-align: right;\n",
       "    }\n",
       "</style>\n",
       "<table border=\"1\" class=\"dataframe\">\n",
       "  <thead>\n",
       "    <tr style=\"text-align: right;\">\n",
       "      <th>Age_Group</th>\n",
       "      <th>Group-A</th>\n",
       "      <th>Group-B</th>\n",
       "      <th>Group-C</th>\n",
       "      <th>Group-D</th>\n",
       "      <th>Group-E</th>\n",
       "      <th>Group-F</th>\n",
       "    </tr>\n",
       "    <tr>\n",
       "      <th>Customer_type</th>\n",
       "      <th></th>\n",
       "      <th></th>\n",
       "      <th></th>\n",
       "      <th></th>\n",
       "      <th></th>\n",
       "      <th></th>\n",
       "    </tr>\n",
       "  </thead>\n",
       "  <tbody>\n",
       "    <tr>\n",
       "      <th>Irregular</th>\n",
       "      <td>1</td>\n",
       "      <td>4</td>\n",
       "      <td>39</td>\n",
       "      <td>11</td>\n",
       "      <td>3</td>\n",
       "      <td>2</td>\n",
       "    </tr>\n",
       "    <tr>\n",
       "      <th>Regular</th>\n",
       "      <td>0</td>\n",
       "      <td>7</td>\n",
       "      <td>7</td>\n",
       "      <td>145</td>\n",
       "      <td>44</td>\n",
       "      <td>1</td>\n",
       "    </tr>\n",
       "  </tbody>\n",
       "</table>\n",
       "</div>"
      ],
      "text/plain": [
       "Age_Group      Group-A  Group-B  Group-C  Group-D  Group-E  Group-F\n",
       "Customer_type                                                      \n",
       "Irregular            1        4       39       11        3        2\n",
       "Regular              0        7        7      145       44        1"
      ]
     },
     "execution_count": 76,
     "metadata": {},
     "output_type": "execute_result"
    }
   ],
   "source": [
    "CT=pd.crosstab(df['Customer_type'],df['Age_Group'])\n",
    "CT"
   ]
  },
  {
   "cell_type": "code",
   "execution_count": 77,
   "metadata": {},
   "outputs": [
    {
     "data": {
      "text/plain": [
       "(0.8478260869565217, 0.07051282051282051)"
      ]
     },
     "execution_count": 77,
     "metadata": {},
     "output_type": "execute_result"
    }
   ],
   "source": [
    "#Irregular in C and D\n",
    "39/46,11/156"
   ]
  },
  {
   "cell_type": "code",
   "execution_count": null,
   "metadata": {},
   "outputs": [],
   "source": [
    "#Group C - 25-30 for example there are more propotions of irregular customers\n",
    "#Group D - 35-40 for example there are more propotions of regular customers"
   ]
  },
  {
   "cell_type": "code",
   "execution_count": 78,
   "metadata": {},
   "outputs": [
    {
     "data": {
      "text/plain": [
       "(137.70576068469086,\n",
       " 5.498541441859924e-28,\n",
       " 5,\n",
       " array([[  0.22727273,   2.5       ,  10.45454545,  35.45454545,\n",
       "          10.68181818,   0.68181818],\n",
       "        [  0.77272727,   8.5       ,  35.54545455, 120.54545455,\n",
       "          36.31818182,   2.31818182]]))"
      ]
     },
     "execution_count": 78,
     "metadata": {},
     "output_type": "execute_result"
    }
   ],
   "source": [
    "chi2_contingency(CT)"
   ]
  },
  {
   "cell_type": "code",
   "execution_count": null,
   "metadata": {},
   "outputs": [],
   "source": [
    "5.498541441859924e-28<0.05 so Ha holds good"
   ]
  },
  {
   "cell_type": "raw",
   "metadata": {},
   "source": [
    "Q12.Does there exist any relationship between Customer type & Deposit Scheme\n"
   ]
  },
  {
   "cell_type": "code",
   "execution_count": 79,
   "metadata": {},
   "outputs": [
    {
     "data": {
      "text/html": [
       "<div>\n",
       "<style scoped>\n",
       "    .dataframe tbody tr th:only-of-type {\n",
       "        vertical-align: middle;\n",
       "    }\n",
       "\n",
       "    .dataframe tbody tr th {\n",
       "        vertical-align: top;\n",
       "    }\n",
       "\n",
       "    .dataframe thead th {\n",
       "        text-align: right;\n",
       "    }\n",
       "</style>\n",
       "<table border=\"1\" class=\"dataframe\">\n",
       "  <thead>\n",
       "    <tr style=\"text-align: right;\">\n",
       "      <th>Deposit_Scheme</th>\n",
       "      <th>Hal-Yearly</th>\n",
       "      <th>Monthly</th>\n",
       "      <th>Quaterly</th>\n",
       "      <th>Yearly</th>\n",
       "    </tr>\n",
       "    <tr>\n",
       "      <th>Customer_type</th>\n",
       "      <th></th>\n",
       "      <th></th>\n",
       "      <th></th>\n",
       "      <th></th>\n",
       "    </tr>\n",
       "  </thead>\n",
       "  <tbody>\n",
       "    <tr>\n",
       "      <th>Irregular</th>\n",
       "      <td>16</td>\n",
       "      <td>5</td>\n",
       "      <td>23</td>\n",
       "      <td>16</td>\n",
       "    </tr>\n",
       "    <tr>\n",
       "      <th>Regular</th>\n",
       "      <td>56</td>\n",
       "      <td>22</td>\n",
       "      <td>90</td>\n",
       "      <td>36</td>\n",
       "    </tr>\n",
       "  </tbody>\n",
       "</table>\n",
       "</div>"
      ],
      "text/plain": [
       "Deposit_Scheme  Hal-Yearly  Monthly  Quaterly  Yearly\n",
       "Customer_type                                        \n",
       "Irregular               16        5        23      16\n",
       "Regular                 56       22        90      36"
      ]
     },
     "execution_count": 79,
     "metadata": {},
     "output_type": "execute_result"
    }
   ],
   "source": [
    "CT=pd.crosstab(df['Customer_type'],df['Deposit_Scheme'])\n",
    "CT"
   ]
  },
  {
   "cell_type": "code",
   "execution_count": 80,
   "metadata": {},
   "outputs": [
    {
     "data": {
      "text/plain": [
       "(2.5601362063621305,\n",
       " 0.4645210818775648,\n",
       " 3,\n",
       " array([[16.36363636,  6.13636364, 25.68181818, 11.81818182],\n",
       "        [55.63636364, 20.86363636, 87.31818182, 40.18181818]]))"
      ]
     },
     "execution_count": 80,
     "metadata": {},
     "output_type": "execute_result"
    }
   ],
   "source": [
    "chi2_contingency(CT)"
   ]
  },
  {
   "cell_type": "code",
   "execution_count": null,
   "metadata": {},
   "outputs": [],
   "source": [
    "Ho holds good."
   ]
  },
  {
   "cell_type": "raw",
   "metadata": {},
   "source": [
    "Q13.After Corona the mean Income of the customers was 25000.\n"
   ]
  },
  {
   "cell_type": "code",
   "execution_count": 81,
   "metadata": {},
   "outputs": [
    {
     "data": {
      "text/plain": [
       "(0.9964473247528076, 0.819494366645813)"
      ]
     },
     "execution_count": 81,
     "metadata": {},
     "output_type": "execute_result"
    }
   ],
   "source": [
    "shapiro(df['Income2'])"
   ]
  },
  {
   "cell_type": "code",
   "execution_count": null,
   "metadata": {},
   "outputs": [],
   "source": [
    "#high pvalue so Data is normal"
   ]
  },
  {
   "cell_type": "code",
   "execution_count": 82,
   "metadata": {},
   "outputs": [
    {
     "data": {
      "text/plain": [
       "Ttest_1sampResult(statistic=0.04652823662732198, pvalue=0.9629245392466856)"
      ]
     },
     "execution_count": 82,
     "metadata": {},
     "output_type": "execute_result"
    }
   ],
   "source": [
    "ttest_1samp(df['Income2'],25000)"
   ]
  },
  {
   "cell_type": "raw",
   "metadata": {},
   "source": [
    "Q14. After Corona the mean Deposit of the customers was 13000.\n"
   ]
  },
  {
   "cell_type": "code",
   "execution_count": 86,
   "metadata": {},
   "outputs": [
    {
     "data": {
      "text/plain": [
       "(array([ 3., 10., 34., 42., 54., 45., 42., 16., 15.,  3.]),\n",
       " array([ 5104. ,  6700.1,  8296.2,  9892.3, 11488.4, 13084.5, 14680.6,\n",
       "        16276.7, 17872.8, 19468.9, 21065. ]),\n",
       " <a list of 10 Patch objects>)"
      ]
     },
     "execution_count": 86,
     "metadata": {},
     "output_type": "execute_result"
    },
    {
     "data": {
      "image/png": "[encoded data removed]",
      "text/plain": [
       "<Figure size 432x288 with 1 Axes>"
      ]
     },
     "metadata": {
      "needs_background": "light"
     },
     "output_type": "display_data"
    }
   ],
   "source": [
    "plt.hist(df.Deposit2)\n"
   ]
  },
  {
   "cell_type": "code",
   "execution_count": 83,
   "metadata": {},
   "outputs": [
    {
     "data": {
      "text/plain": [
       "(0.9934213161468506, 0.30017945170402527)"
      ]
     },
     "execution_count": 83,
     "metadata": {},
     "output_type": "execute_result"
    }
   ],
   "source": [
    "shapiro(df['Deposit2'])"
   ]
  },
  {
   "cell_type": "code",
   "execution_count": 87,
   "metadata": {},
   "outputs": [
    {
     "data": {
      "text/plain": [
       "Ttest_1sampResult(statistic=-0.45360610788498795, pvalue=0.6504864132590965)"
      ]
     },
     "execution_count": 87,
     "metadata": {},
     "output_type": "execute_result"
    }
   ],
   "source": [
    "ttest_1samp(df['Deposit2'],13000)"
   ]
  },
  {
   "cell_type": "code",
   "execution_count": null,
   "metadata": {},
   "outputs": [],
   "source": []
  },
  {
   "cell_type": "code",
   "execution_count": null,
   "metadata": {},
   "outputs": [],
   "source": [
    "Q15.Is there any effect of Corona on Income\n",
    "\n"
   ]
  },
  {
   "cell_type": "code",
   "execution_count": 88,
   "metadata": {},
   "outputs": [
    {
     "data": {
      "text/plain": [
       "(0.9979685544967651, 0.9867026805877686)"
      ]
     },
     "execution_count": 88,
     "metadata": {},
     "output_type": "execute_result"
    }
   ],
   "source": [
    "shapiro(df['Income'])"
   ]
  },
  {
   "cell_type": "code",
   "execution_count": 89,
   "metadata": {},
   "outputs": [
    {
     "data": {
      "text/plain": [
       "30104.583333333332"
      ]
     },
     "execution_count": 89,
     "metadata": {},
     "output_type": "execute_result"
    }
   ],
   "source": [
    "np.mean(df['Income'])"
   ]
  },
  {
   "cell_type": "code",
   "execution_count": 90,
   "metadata": {},
   "outputs": [
    {
     "data": {
      "text/plain": [
       "(0.9964473247528076, 0.819494366645813)"
      ]
     },
     "execution_count": 90,
     "metadata": {},
     "output_type": "execute_result"
    }
   ],
   "source": [
    "shapiro(df['Income2'])"
   ]
  },
  {
   "cell_type": "code",
   "execution_count": 91,
   "metadata": {},
   "outputs": [
    {
     "data": {
      "text/plain": [
       "25014.545454545456"
      ]
     },
     "execution_count": 91,
     "metadata": {},
     "output_type": "execute_result"
    }
   ],
   "source": [
    "np.mean(df['Income2'])"
   ]
  },
  {
   "cell_type": "code",
   "execution_count": 96,
   "metadata": {},
   "outputs": [
    {
     "data": {
      "text/plain": [
       "Ttest_relResult(statistic=7.3845805999351475, pvalue=2.0214409662318323e-12)"
      ]
     },
     "execution_count": 96,
     "metadata": {},
     "output_type": "execute_result"
    }
   ],
   "source": [
    "ttest_rel(df['Income'],df['Income2'])"
   ]
  },
  {
   "cell_type": "code",
   "execution_count": null,
   "metadata": {},
   "outputs": [],
   "source": [
    "#Rejects Null hypothesis is Rejected which mean Covid had an Effect on Income"
   ]
  },
  {
   "cell_type": "code",
   "execution_count": null,
   "metadata": {},
   "outputs": [],
   "source": [
    "16.Is there any effect of Corona on Deposit"
   ]
  },
  {
   "cell_type": "code",
   "execution_count": 92,
   "metadata": {},
   "outputs": [
    {
     "data": {
      "text/plain": [
       "(0.9948977828025818, 0.5275180339813232)"
      ]
     },
     "execution_count": 92,
     "metadata": {},
     "output_type": "execute_result"
    }
   ],
   "source": [
    "shapiro(df['Deposit'])"
   ]
  },
  {
   "cell_type": "code",
   "execution_count": 93,
   "metadata": {},
   "outputs": [
    {
     "data": {
      "text/plain": [
       "15601.345075757581"
      ]
     },
     "execution_count": 93,
     "metadata": {},
     "output_type": "execute_result"
    }
   ],
   "source": [
    "np.mean(df['Deposit'])"
   ]
  },
  {
   "cell_type": "code",
   "execution_count": 94,
   "metadata": {},
   "outputs": [
    {
     "data": {
      "text/plain": [
       "(0.9934213161468506, 0.30017945170402527)"
      ]
     },
     "execution_count": 94,
     "metadata": {},
     "output_type": "execute_result"
    }
   ],
   "source": [
    "shapiro(df['Deposit2'])"
   ]
  },
  {
   "cell_type": "code",
   "execution_count": 95,
   "metadata": {},
   "outputs": [
    {
     "data": {
      "text/plain": [
       "12915.172348484848"
      ]
     },
     "execution_count": 95,
     "metadata": {},
     "output_type": "execute_result"
    }
   ],
   "source": [
    "np.mean(df['Deposit2'])"
   ]
  },
  {
   "cell_type": "code",
   "execution_count": 97,
   "metadata": {},
   "outputs": [
    {
     "data": {
      "text/plain": [
       "Ttest_relResult(statistic=6.9895298325640995, pvalue=2.266359033247305e-11)"
      ]
     },
     "execution_count": 97,
     "metadata": {},
     "output_type": "execute_result"
    }
   ],
   "source": [
    "ttest_rel(df['Deposit'],df['Deposit2'])"
   ]
  },
  {
   "cell_type": "code",
   "execution_count": null,
   "metadata": {},
   "outputs": [],
   "source": [
    "#Rejects Null hypothesis is Rejected which mean Covid had an Effect on Deposit"
   ]
  }
 ],
 "metadata": {
  "kernelspec": {
   "display_name": "Python 3",
   "language": "python",
   "name": "python3"
  },
  "language_info": {
   "codemirror_mode": {
    "name": "ipython",
    "version": 3
   },
   "file_extension": ".py",
   "mimetype": "text/x-python",
   "name": "python",
   "nbconvert_exporter": "python",
   "pygments_lexer": "ipython3",
   "version": "3.7.6"
  }
 },
 "nbformat": 4,
 "nbformat_minor": 4
}
